{
 "cells": [
  {
   "cell_type": "markdown",
   "id": "8acadc5c",
   "metadata": {},
   "source": [
    "## Markdown Formats"
   ]
  },
  {
   "cell_type": "markdown",
   "id": "050b8134",
   "metadata": {},
   "source": [
    "## Styling Text\n",
    "**This is for Bold**\n",
    "__Sample for Bold__\n",
    "\n",
    "*This is sample for Italic*\n",
    "_This is sample for Italic_\n",
    "\n",
    "~~Sample for Strike Through~~\n",
    "\n",
    "**Sample for bold and _italic_ example**\n",
    "\n",
    "***Example for All bold and italic***"
   ]
  },
  {
   "cell_type": "markdown",
   "id": "407c8261",
   "metadata": {},
   "source": [
    "## Quoting Text\n",
    "> This is sample for Quoting text "
   ]
  },
  {
   "cell_type": "markdown",
   "id": "ea0a05f2",
   "metadata": {},
   "source": [
    "## Quoting Code\n",
    "`sample`\n",
    "\n",
    "``chapter-1``\n",
    "``chapter-2``\n",
    "\n",
    "```\n",
    "    chapter-1\n",
    "    chapter-2\n",
    "```"
   ]
  },
  {
   "cell_type": "markdown",
   "id": "27d4dd18",
   "metadata": {},
   "source": [
    "## Links\n",
    "\n",
    "KEC College [Click Here](https://www.google.com/)\n"
   ]
  },
  {
   "cell_type": "markdown",
   "id": "f889993c",
   "metadata": {},
   "source": [
    "## Relative Link\n",
    "\n",
    "   Sample File [Click Here](sample.py)"
   ]
  },
  {
   "cell_type": "markdown",
   "id": "ac645f52",
   "metadata": {},
   "source": [
    "## Images\n",
    "   \n",
    "   ![image display](logo.jpeg)"
   ]
  },
  {
   "cell_type": "markdown",
   "id": "51e1c31a",
   "metadata": {},
   "source": [
    "## Input Formatting:\n",
    "    - By default the data type of variable value is string\n",
    "    - It reads value from user\n",
    "    - It prints an info to a user\n",
    "    Syntax:\n",
    "        variablename = input(\"something info\")"
   ]
  },
  {
   "cell_type": "code",
   "execution_count": 1,
   "id": "996c7b87",
   "metadata": {},
   "outputs": [
    {
     "name": "stdout",
     "output_type": "stream",
     "text": [
      "Enter a value: 78\n",
      "Enter b value: 45.0545\n",
      "78 <class 'str'>\n",
      "45.0545 <class 'str'>\n"
     ]
    }
   ],
   "source": [
    "a = input(\"Enter a value: \")\n",
    "b = input(\"Enter b value: \")\n",
    "print(a,type(a))\n",
    "print(b,type(b))"
   ]
  },
  {
   "cell_type": "code",
   "execution_count": null,
   "id": "016c745b",
   "metadata": {},
   "outputs": [],
   "source": [
    "q = 50\n",
    "q"
   ]
  },
  {
   "cell_type": "code",
   "execution_count": 2,
   "id": "277468e6",
   "metadata": {},
   "outputs": [
    {
     "name": "stdout",
     "output_type": "stream",
     "text": [
      "Enter a value: 12\n",
      "Enter b value: 32.015\n",
      "12 <class 'str'>\n",
      "32.015 <class 'str'>\n"
     ]
    }
   ],
   "source": [
    "a,b = input(\"Enter a value: \"),input(\"Enter b value: \")\n",
    "print(a,type(a))\n",
    "print(b,type(b))"
   ]
  },
  {
   "cell_type": "markdown",
   "id": "e6f6a586",
   "metadata": {},
   "source": [
    "## Output Formatting:\n",
    "    - , +\n",
    "    - %\n",
    "    - .format\n",
    "    - f"
   ]
  },
  {
   "cell_type": "code",
   "execution_count": 15,
   "id": "98e0560d",
   "metadata": {},
   "outputs": [
    {
     "name": "stdout",
     "output_type": "stream",
     "text": [
      "Enter a value: 4\n",
      "Enter b value: 8\n",
      "Addition of 4 and 8 is: 12\n",
      "Addition of 4 and 8 is: 12\n",
      "Substraction of 4 and 8 is: -4\n",
      "Multiplication of 4 and 8 is: 32\n",
      "Multiplication of 8 and 4 is: 32\n",
      "Division of 4 and 8 is: 0.5\n"
     ]
    }
   ],
   "source": [
    "w,k = input(\"Enter a value: \"),input(\"Enter b value: \")\n",
    "print(\"Addition of\",w,'and',k,'is:',(int(w)+int(k)))\n",
    "print(\"Addition of \"+w+' and '+k+' is: '+str(int(w)+int(k)))\n",
    "print(\"Substraction of %s and %s is: %d\"%(w,k,int(w)-int(k)))\n",
    "print(\"Multiplication of {} and {} is: {}\".format(w,k,int(w)*int(k)))\n",
    "print(\"Multiplication of {1} and {0} is: {2}\".format(w,k,int(w)*int(k)))\n",
    "print(f\"Division of {w} and {k} is: {int(w)/int(k)}\")"
   ]
  },
  {
   "cell_type": "markdown",
   "id": "c26f34e0",
   "metadata": {},
   "source": [
    "## Typecasting:\n",
    "    - To change from one data type to another data type\n",
    "    - int()\n",
    "    - float()\n",
    "    - str()\n",
    "    - complex()\n",
    "    - All Data Structures[list(),tuple(),set() and dict()]"
   ]
  },
  {
   "cell_type": "code",
   "execution_count": 16,
   "id": "3c8c1b62",
   "metadata": {},
   "outputs": [
    {
     "name": "stdout",
     "output_type": "stream",
     "text": [
      "Enter a value: 5\n",
      "Enter b value: 45.05848\n",
      "Enter complex value: 5\n",
      "5 <class 'int'>\n",
      "45.05848 <class 'float'>\n",
      "(5+0j) <class 'complex'>\n"
     ]
    }
   ],
   "source": [
    "a,b,c = int(input(\"Enter a value: \")),float(input(\"Enter b value: \")),complex(input(\"Enter complex value: \"))\n",
    "print(a,type(a))\n",
    "print(b,type(b))\n",
    "print(c,type(c))"
   ]
  },
  {
   "cell_type": "markdown",
   "id": "e14f74ed",
   "metadata": {},
   "source": [
    "## Operators:\n",
    "    - Arithmetic => +,-,*,/,%,//,** \n",
    "    - Relational => <,>,!=,>=,<=,==\n",
    "    - Logical => AND,OR,NOT\n",
    "    - Bitwise => &,|,~,^,>>,<<\n",
    "    - Assignment => +=,-=,*=,/=,//=,%=\n",
    "    - Membership => in,not in\n",
    "    - Identity => is, is not"
   ]
  },
  {
   "cell_type": "code",
   "execution_count": 17,
   "id": "d110673c",
   "metadata": {},
   "outputs": [
    {
     "name": "stdout",
     "output_type": "stream",
     "text": [
      "15\n"
     ]
    }
   ],
   "source": [
    "a=10\n",
    "b=5\n",
    "a+=b\n",
    "print(a)"
   ]
  },
  {
   "cell_type": "code",
   "execution_count": 19,
   "id": "69f79c57",
   "metadata": {},
   "outputs": [
    {
     "name": "stdout",
     "output_type": "stream",
     "text": [
      "45\n",
      "4\n"
     ]
    }
   ],
   "source": [
    "w = 45\n",
    "p = 20\n",
    "print(p and w)\n",
    "print(p & w)"
   ]
  },
  {
   "cell_type": "code",
   "execution_count": 20,
   "id": "5bea947b",
   "metadata": {},
   "outputs": [
    {
     "name": "stdout",
     "output_type": "stream",
     "text": [
      "20\n",
      "4\n"
     ]
    }
   ],
   "source": [
    "w = 45\n",
    "p = 20\n",
    "print(w and p)\n",
    "print(w & p)"
   ]
  },
  {
   "cell_type": "code",
   "execution_count": 21,
   "id": "6896a442",
   "metadata": {},
   "outputs": [
    {
     "name": "stdout",
     "output_type": "stream",
     "text": [
      "20\n",
      "61\n"
     ]
    }
   ],
   "source": [
    "w = 45\n",
    "p = 20\n",
    "print(p or w)\n",
    "print(p | w)"
   ]
  },
  {
   "cell_type": "code",
   "execution_count": 22,
   "id": "fdf5f24b",
   "metadata": {},
   "outputs": [
    {
     "name": "stdout",
     "output_type": "stream",
     "text": [
      "45\n",
      "61\n"
     ]
    }
   ],
   "source": [
    "w = 45\n",
    "p = 20\n",
    "print(w or p)\n",
    "print(w | p)"
   ]
  },
  {
   "cell_type": "markdown",
   "id": "d59cfff4",
   "metadata": {},
   "source": [
    "## Conditional Statements\n",
    "    - To check whether a given condition is either True or False\n",
    "    - if => single case\n",
    "    - if-else => two cases\n",
    "    - nested if => 3 or more cases\n",
    "    - elif => 3 or more but based on preferences"
   ]
  },
  {
   "cell_type": "markdown",
   "id": "970ad943",
   "metadata": {},
   "source": [
    "## If:\n",
    "    Syntax:\n",
    "        if condition:\n",
    "            //stmnts\n",
    "    () => Optional"
   ]
  },
  {
   "cell_type": "code",
   "execution_count": 28,
   "id": "04818163",
   "metadata": {},
   "outputs": [
    {
     "name": "stdout",
     "output_type": "stream",
     "text": [
      "Enter a number to fix: 59\n",
      "Enter a value: 59\n",
      "Entered number 59 is equal to 59\n"
     ]
    }
   ],
   "source": [
    "k = int(input(\"Enter a number to fix: \"))\n",
    "n = int(input(\"Enter a value: \"))\n",
    "if n == k:\n",
    "    print(f\"Entered number {n} is equal to {k}\")"
   ]
  },
  {
   "cell_type": "markdown",
   "id": "0529c5c4",
   "metadata": {},
   "source": [
    "## If-else:\n",
    "    Syntax:\n",
    "        if condition:\n",
    "            //statement-1\n",
    "        else:\n",
    "            //statement-2\n",
    "        () => Optional"
   ]
  },
  {
   "cell_type": "code",
   "execution_count": 29,
   "id": "cd5a20e5",
   "metadata": {},
   "outputs": [
    {
     "name": "stdout",
     "output_type": "stream",
     "text": [
      "Enter a number: 5\n",
      "5\n"
     ]
    }
   ],
   "source": [
    "k = int(input(\"Enter a number: \"))\n",
    "if k%2==0:\n",
    "    print(5+3**2)\n",
    "else:\n",
    "    print(k)"
   ]
  },
  {
   "cell_type": "markdown",
   "id": "f6e94897",
   "metadata": {},
   "source": [
    "```\n",
    "    Input:\n",
    "        Enter Age: 20\n",
    "    Output:\n",
    "        Eligible for Vote with 2 years exceed\n",
    "    \n",
    "    Input:\n",
    "        Enter Age: 16\n",
    "    Output:\n",
    "        Not Eligible for Vote wait for 2 years\n",
    "```"
   ]
  },
  {
   "cell_type": "code",
   "execution_count": 37,
   "id": "a3b45165",
   "metadata": {},
   "outputs": [
    {
     "name": "stdout",
     "output_type": "stream",
     "text": [
      "Enter Age:18\n",
      "Eligible for Vote with 0 years exceed\n"
     ]
    }
   ],
   "source": [
    "age=int(input(\"Enter Age: \"))\n",
    "if(age>=18):\n",
    "    print(f\"Eligible for Vote with {age-18} years exceed\")\n",
    "else:\n",
    "    print(f\"Not Eligible for Vote wait for {18-age} years\")"
   ]
  },
  {
   "cell_type": "markdown",
   "id": "3032ae38",
   "metadata": {},
   "source": [
    "## Nested if:\n",
    "    Syntax:\n",
    "        if condition-1:\n",
    "            if condition-2:\n",
    "                //stmnt-2\n",
    "            else:\n",
    "                //stmnt-1\n",
    "        else:\n",
    "            //stmnt-n\n",
    "        () => Optional\n",
    "        else => Optional"
   ]
  },
  {
   "cell_type": "code",
   "execution_count": 40,
   "id": "55d6d6dd",
   "metadata": {},
   "outputs": [
    {
     "name": "stdout",
     "output_type": "stream",
     "text": [
      "Enter Username: ramesh\n",
      "Enter Password: 135\n",
      "Welcome User ramesh\n"
     ]
    }
   ],
   "source": [
    "u = input(\"Enter Username: \")\n",
    "p = input(\"Enter Password: \")\n",
    "if u == \"ramesh\":\n",
    "    if p == \"135\":\n",
    "        print(f\"Welcome User {u}\")\n",
    "    else:\n",
    "        print(\"Invalid Username/Password\")\n",
    "else:\n",
    "    print(\"Invalid Username/Password\")"
   ]
  },
  {
   "cell_type": "code",
   "execution_count": null,
   "id": "c90a76f3",
   "metadata": {},
   "outputs": [],
   "source": []
  }
 ],
 "metadata": {
  "kernelspec": {
   "display_name": "Python 3 (ipykernel)",
   "language": "python",
   "name": "python3"
  },
  "language_info": {
   "codemirror_mode": {
    "name": "ipython",
    "version": 3
   },
   "file_extension": ".py",
   "mimetype": "text/x-python",
   "name": "python",
   "nbconvert_exporter": "python",
   "pygments_lexer": "ipython3",
   "version": "3.9.13"
  }
 },
 "nbformat": 4,
 "nbformat_minor": 5
}
