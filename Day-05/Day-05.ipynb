{
 "cells": [
  {
   "cell_type": "markdown",
   "id": "69bb6e09",
   "metadata": {},
   "source": [
    "```\n",
    "01 02 03 04 05 06 07\n",
    "08 09 10 11 12 13 14\n",
    "15 16 17 18 19 20 21\n",
    "22 23 24 25 26 27 28\n",
    "29 30 31\n",
    "```"
   ]
  },
  {
   "cell_type": "code",
   "execution_count": 12,
   "id": "7c754b79",
   "metadata": {},
   "outputs": [
    {
     "name": "stdout",
     "output_type": "stream",
     "text": [
      "## ** || ** ## ** ## \n",
      "[] [] || [] [] [] [] \n",
      "&& ** || ** && ** && \n",
      "** && || () ** () ** \n",
      "() ** || \n"
     ]
    }
   ],
   "source": [
    "a = 1\n",
    "for i in range(5):\n",
    "    for j in range(7):\n",
    "        if a>=32:\n",
    "            break\n",
    "        else:\n",
    "            if j == 2:\n",
    "                print(\"||\",end=\" \")\n",
    "            elif i == 1:\n",
    "                print(\"[]\",end=\" \")\n",
    "            elif a%2==0:\n",
    "                print(\"**\",end=\" \")\n",
    "            elif a<=10:\n",
    "                print(\"##\",end=\" \")\n",
    "            elif a>=25:\n",
    "                print(\"()\",end=\" \")\n",
    "            else:\n",
    "                print(\"&&\",end=\" \")\n",
    "        a+=1\n",
    "    print()"
   ]
  },
  {
   "cell_type": "markdown",
   "id": "b1ad2e37",
   "metadata": {},
   "source": [
    "## Functions:\n",
    "    - to perform a specific task\n",
    "    - 2 types\n",
    "        = user defined functions => User need to fix a task\n",
    "        = pre-defined functions => Already the task is fixed \n",
    "    Syntax:\n",
    "        def functioname(arguments):\n",
    "            //stmnts\n",
    "            return return_value"
   ]
  },
  {
   "cell_type": "markdown",
   "id": "8bc625e0",
   "metadata": {},
   "source": [
    "## User defined functions:\n",
    "    - with returntype and with arguments\n",
    "    - with returntype and without arguments\n",
    "    - without returntype and with arguments\n",
    "    - without returntype and without arguments"
   ]
  },
  {
   "cell_type": "code",
   "execution_count": 13,
   "id": "1bf4379c",
   "metadata": {},
   "outputs": [
    {
     "name": "stdout",
     "output_type": "stream",
     "text": [
      "Enter a number: 7854564\n",
      "Given number is: 7854564 and its digit count is: 7\n"
     ]
    }
   ],
   "source": [
    "# - with returntype and with arguments\n",
    "# Reading => Main\n",
    "# Printing => Main\n",
    "# Logic => Function\n",
    "\n",
    "def digitcount(y):\n",
    "    c = 0\n",
    "    while y!=0:\n",
    "        c+=1\n",
    "        y//=10\n",
    "    return c\n",
    "\n",
    "n = int(input(\"Enter a number: \"))\n",
    "print(f\"Given number is: {n} and its digit count is: {digitcount(n)}\")"
   ]
  },
  {
   "cell_type": "code",
   "execution_count": 15,
   "id": "90f8c9d5",
   "metadata": {},
   "outputs": [
    {
     "name": "stdout",
     "output_type": "stream",
     "text": [
      "Enter a number: 4587\n",
      "Given number is: 4587 and its digit count is: 4\n"
     ]
    }
   ],
   "source": [
    "# - with returntype and without arguments\n",
    "# Reading => Function\n",
    "# Printing => Main\n",
    "# Logic => Function\n",
    "\n",
    "def digitcount():\n",
    "    y = int(input(\"Enter a number: \"))\n",
    "    c = 0\n",
    "    print(f\"Given number is: {y}\",end=\" \")\n",
    "    while y!=0:\n",
    "        c+=1\n",
    "        y//=10\n",
    "    return c\n",
    "\n",
    "print(f\"and its digit count is: {digitcount()}\")"
   ]
  },
  {
   "cell_type": "code",
   "execution_count": 16,
   "id": "afde0ef0",
   "metadata": {},
   "outputs": [
    {
     "name": "stdout",
     "output_type": "stream",
     "text": [
      "Enter a number: 7458\n",
      "Given number is: 7458 and its digit count is: 4\n"
     ]
    }
   ],
   "source": [
    "# - without returntype and with arguments\n",
    "# Reading => Main\n",
    "# Printing => Function\n",
    "# Logic => Function\n",
    "\n",
    "def digitcount(y):\n",
    "    c = 0\n",
    "    print(f\"Given number is: {y}\",end=\" \")\n",
    "    while y!=0:\n",
    "        c+=1\n",
    "        y//=10\n",
    "    print(f\"and its digit count is: {c}\")\n",
    "    return \n",
    "\n",
    "n = int(input(\"Enter a number: \"))\n",
    "digitcount(n)"
   ]
  },
  {
   "cell_type": "code",
   "execution_count": 17,
   "id": "335aaeeb",
   "metadata": {},
   "outputs": [
    {
     "name": "stdout",
     "output_type": "stream",
     "text": [
      "Enter a number: 1254\n",
      "Given number is: 1254 and its digit count is: 4\n"
     ]
    }
   ],
   "source": [
    "# - without returntype and with arguments\n",
    "# Reading => Function\n",
    "# Printing => Function\n",
    "# Logic => Function\n",
    "\n",
    "def digitcount():\n",
    "    c = 0\n",
    "    y = int(input(\"Enter a number: \"))\n",
    "    print(f\"Given number is: {y}\",end=\" \")\n",
    "    while y!=0:\n",
    "        c+=1\n",
    "        y//=10\n",
    "    print(f\"and its digit count is: {c}\")\n",
    "    return \n",
    "\n",
    "digitcount()"
   ]
  },
  {
   "cell_type": "code",
   "execution_count": 20,
   "id": "974d8a6f",
   "metadata": {},
   "outputs": [
    {
     "name": "stdout",
     "output_type": "stream",
     "text": [
      "Weird\n"
     ]
    }
   ],
   "source": [
    "n=3\n",
    "if n%2!=0:\n",
    "    print(\"Weird\")\n",
    "elif n>=2 and n<=5:\n",
    "    print(\"Not Weird\")\n",
    "elif n>=6 and n<=20:\n",
    "    print(\"Weird\")\n",
    "else:\n",
    "    print(\"Not Weird\")"
   ]
  },
  {
   "cell_type": "code",
   "execution_count": 23,
   "id": "0655fbf5",
   "metadata": {},
   "outputs": [
    {
     "name": "stdout",
     "output_type": "stream",
     "text": [
      "Not Weird\n"
     ]
    }
   ],
   "source": [
    "n=4\n",
    "if n%2!=0:\n",
    "    print(\"Weird\")\n",
    "elif n>=2 and n<=5:\n",
    "    print(\"Not Weird\")\n",
    "elif n>=6 and n<=20:\n",
    "    print(\"Weird\")\n",
    "else:\n",
    "    print(\"Not Weird\")"
   ]
  },
  {
   "cell_type": "markdown",
   "id": "8783a6c0",
   "metadata": {},
   "source": [
    "## Function Argument types:\n",
    "    - Default \n",
    "    - keyword\n",
    "    - Required or Positional\n",
    "    - Variable-Length"
   ]
  },
  {
   "cell_type": "markdown",
   "id": "11109be2",
   "metadata": {},
   "source": [
    "## Default Argument:"
   ]
  },
  {
   "cell_type": "code",
   "execution_count": 24,
   "id": "17bd63e5",
   "metadata": {},
   "outputs": [
    {
     "name": "stdout",
     "output_type": "stream",
     "text": [
      "Enter Student Name: ramesh\n",
      "Entered Student Name is: ramesh\n",
      "Year is: 2nd\n"
     ]
    }
   ],
   "source": [
    "def student(k,year=\"2nd\"):\n",
    "    print(f\"Entered Student Name is: {k}\")\n",
    "    print(f\"Year is: {year}\")\n",
    "    return\n",
    "\n",
    "n = input(\"Enter Student Name: \")\n",
    "student(n)"
   ]
  },
  {
   "cell_type": "code",
   "execution_count": 25,
   "id": "669b54c2",
   "metadata": {},
   "outputs": [
    {
     "name": "stdout",
     "output_type": "stream",
     "text": [
      "Entered Student Name is: Prasad\n",
      "Year is: 2nd\n"
     ]
    }
   ],
   "source": [
    "def student(k=\"Prasad\",year=\"2nd\"):\n",
    "    print(f\"Entered Student Name is: {k}\")\n",
    "    print(f\"Year is: {year}\")\n",
    "    return\n",
    "\n",
    "student()"
   ]
  },
  {
   "cell_type": "code",
   "execution_count": 27,
   "id": "75ed0a14",
   "metadata": {},
   "outputs": [
    {
     "name": "stdout",
     "output_type": "stream",
     "text": [
      "Enter Name: tarun\n",
      "Enter Year: 3rd\n",
      "Entered Student Name is: tarun\n",
      "Year is: 3rd\n"
     ]
    }
   ],
   "source": [
    "def student(k=\"Prasad\",year=\"2nd\"):\n",
    "    print(f\"Entered Student Name is: {k}\")\n",
    "    print(f\"Year is: {year}\")\n",
    "    return\n",
    "\n",
    "n = input(\"Enter Name: \")\n",
    "m= input(\"Enter Year: \")\n",
    "student(n,m)"
   ]
  },
  {
   "cell_type": "markdown",
   "id": "8ce91dcd",
   "metadata": {},
   "source": [
    "## Required or Positional Argument:"
   ]
  },
  {
   "cell_type": "code",
   "execution_count": 29,
   "id": "f8a68231",
   "metadata": {},
   "outputs": [
    {
     "name": "stdout",
     "output_type": "stream",
     "text": [
      "Enter a name: lalitha\n",
      "Enter age: 26\n",
      "Employee Name is: lalitha\n",
      "Employee Age is: 26\n"
     ]
    }
   ],
   "source": [
    "def employee(a,b):\n",
    "    print(f\"Employee Name is: {a}\")\n",
    "    print(f\"Employee Age is: {b}\")\n",
    "    return\n",
    "\n",
    "en = input(\"Enter a name: \")\n",
    "eage = input(\"Enter age: \")\n",
    "employee(en,eage)"
   ]
  },
  {
   "cell_type": "code",
   "execution_count": 30,
   "id": "ca762bc8",
   "metadata": {},
   "outputs": [
    {
     "name": "stdout",
     "output_type": "stream",
     "text": [
      "Enter a name: eswar\n",
      "Enter age: 29\n"
     ]
    },
    {
     "ename": "TypeError",
     "evalue": "employee() missing 1 required positional argument: 'c'",
     "output_type": "error",
     "traceback": [
      "\u001b[1;31m------------------------------------------------------------------------\u001b[0m",
      "\u001b[1;31mTypeError\u001b[0m                              Traceback (most recent call last)",
      "Cell \u001b[1;32mIn[30], line 8\u001b[0m\n\u001b[0;32m      6\u001b[0m en \u001b[38;5;241m=\u001b[39m \u001b[38;5;28minput\u001b[39m(\u001b[38;5;124m\"\u001b[39m\u001b[38;5;124mEnter a name: \u001b[39m\u001b[38;5;124m\"\u001b[39m)\n\u001b[0;32m      7\u001b[0m eage \u001b[38;5;241m=\u001b[39m \u001b[38;5;28minput\u001b[39m(\u001b[38;5;124m\"\u001b[39m\u001b[38;5;124mEnter age: \u001b[39m\u001b[38;5;124m\"\u001b[39m)\n\u001b[1;32m----> 8\u001b[0m \u001b[43memployee\u001b[49m\u001b[43m(\u001b[49m\u001b[43men\u001b[49m\u001b[43m,\u001b[49m\u001b[43meage\u001b[49m\u001b[43m)\u001b[49m\n",
      "\u001b[1;31mTypeError\u001b[0m: employee() missing 1 required positional argument: 'c'"
     ]
    }
   ],
   "source": [
    "def employee(a,b,c):\n",
    "    print(f\"Employee Name is: {a}\")\n",
    "    print(f\"Employee Age is: {b}\")\n",
    "    return\n",
    "\n",
    "en = input(\"Enter a name: \")\n",
    "eage = input(\"Enter age: \")\n",
    "employee(en,eage)"
   ]
  },
  {
   "cell_type": "code",
   "execution_count": 31,
   "id": "81c39f6b",
   "metadata": {},
   "outputs": [
    {
     "name": "stdout",
     "output_type": "stream",
     "text": [
      "Enter a name: naveen\n",
      "Enter age: 29\n",
      "Employee Name is: naveen\n",
      "Employee Age is: 29\n",
      "Employee Sal is: 25000\n"
     ]
    }
   ],
   "source": [
    "def employee(a,b,c=25000):\n",
    "    print(f\"Employee Name is: {a}\")\n",
    "    print(f\"Employee Age is: {b}\")\n",
    "    print(f\"Employee Sal is: {c}\")\n",
    "    return\n",
    "\n",
    "en = input(\"Enter a name: \")\n",
    "eage = input(\"Enter age: \")\n",
    "employee(en,eage)"
   ]
  },
  {
   "cell_type": "markdown",
   "id": "b4afda86",
   "metadata": {},
   "source": [
    "## Keyword Argument"
   ]
  },
  {
   "cell_type": "code",
   "execution_count": 35,
   "id": "70b600d7",
   "metadata": {},
   "outputs": [
    {
     "name": "stdout",
     "output_type": "stream",
     "text": [
      "Enter name: lokesh\n",
      "Enter Age: 28\n",
      "Student Name: lokesh\n",
      "Student Age: 28\n"
     ]
    }
   ],
   "source": [
    "def student(a,b):\n",
    "    print(f\"Student Name: {b}\")\n",
    "    print(f\"Student Age: {a}\")\n",
    "    return\n",
    "\n",
    "n = input(\"Enter name: \")\n",
    "ag = int(input(\"Enter Age: \"))\n",
    "student(b=n,a=ag)"
   ]
  },
  {
   "cell_type": "code",
   "execution_count": 36,
   "id": "d32af942",
   "metadata": {},
   "outputs": [
    {
     "name": "stdout",
     "output_type": "stream",
     "text": [
      "Enter name: rajesh\n",
      "Enter Age: 23\n"
     ]
    },
    {
     "ename": "TypeError",
     "evalue": "student() missing 1 required positional argument: 'c'",
     "output_type": "error",
     "traceback": [
      "\u001b[1;31m------------------------------------------------------------------------\u001b[0m",
      "\u001b[1;31mTypeError\u001b[0m                              Traceback (most recent call last)",
      "Cell \u001b[1;32mIn[36], line 8\u001b[0m\n\u001b[0;32m      6\u001b[0m n \u001b[38;5;241m=\u001b[39m \u001b[38;5;28minput\u001b[39m(\u001b[38;5;124m\"\u001b[39m\u001b[38;5;124mEnter name: \u001b[39m\u001b[38;5;124m\"\u001b[39m)\n\u001b[0;32m      7\u001b[0m ag \u001b[38;5;241m=\u001b[39m \u001b[38;5;28mint\u001b[39m(\u001b[38;5;28minput\u001b[39m(\u001b[38;5;124m\"\u001b[39m\u001b[38;5;124mEnter Age: \u001b[39m\u001b[38;5;124m\"\u001b[39m))\n\u001b[1;32m----> 8\u001b[0m \u001b[43mstudent\u001b[49m\u001b[43m(\u001b[49m\u001b[43mb\u001b[49m\u001b[38;5;241;43m=\u001b[39;49m\u001b[43mn\u001b[49m\u001b[43m,\u001b[49m\u001b[43ma\u001b[49m\u001b[38;5;241;43m=\u001b[39;49m\u001b[43mag\u001b[49m\u001b[43m)\u001b[49m\n",
      "\u001b[1;31mTypeError\u001b[0m: student() missing 1 required positional argument: 'c'"
     ]
    }
   ],
   "source": [
    "def student(a,b,c):\n",
    "    print(f\"Student Name: {b}\")\n",
    "    print(f\"Student Age: {a}\")\n",
    "    return\n",
    "\n",
    "n = input(\"Enter name: \")\n",
    "ag = int(input(\"Enter Age: \"))\n",
    "student(b=n,a=ag)"
   ]
  },
  {
   "cell_type": "code",
   "execution_count": 37,
   "id": "8c1c46a0",
   "metadata": {},
   "outputs": [
    {
     "name": "stdout",
     "output_type": "stream",
     "text": [
      "Enter name: kiran\n",
      "Enter Age: 28\n"
     ]
    },
    {
     "ename": "TypeError",
     "evalue": "student() got an unexpected keyword argument 'b'",
     "output_type": "error",
     "traceback": [
      "\u001b[1;31m------------------------------------------------------------------------\u001b[0m",
      "\u001b[1;31mTypeError\u001b[0m                              Traceback (most recent call last)",
      "Cell \u001b[1;32mIn[37], line 8\u001b[0m\n\u001b[0;32m      6\u001b[0m n \u001b[38;5;241m=\u001b[39m \u001b[38;5;28minput\u001b[39m(\u001b[38;5;124m\"\u001b[39m\u001b[38;5;124mEnter name: \u001b[39m\u001b[38;5;124m\"\u001b[39m)\n\u001b[0;32m      7\u001b[0m ag \u001b[38;5;241m=\u001b[39m \u001b[38;5;28mint\u001b[39m(\u001b[38;5;28minput\u001b[39m(\u001b[38;5;124m\"\u001b[39m\u001b[38;5;124mEnter Age: \u001b[39m\u001b[38;5;124m\"\u001b[39m))\n\u001b[1;32m----> 8\u001b[0m \u001b[43mstudent\u001b[49m\u001b[43m(\u001b[49m\u001b[43mb\u001b[49m\u001b[38;5;241;43m=\u001b[39;49m\u001b[43mn\u001b[49m\u001b[43m,\u001b[49m\u001b[43ma\u001b[49m\u001b[38;5;241;43m=\u001b[39;49m\u001b[43mag\u001b[49m\u001b[43m)\u001b[49m\n",
      "\u001b[1;31mTypeError\u001b[0m: student() got an unexpected keyword argument 'b'"
     ]
    }
   ],
   "source": [
    "def student(a,c):\n",
    "    print(f\"Student Name: {c}\")\n",
    "    print(f\"Student Age: {a}\")\n",
    "    return\n",
    "\n",
    "n = input(\"Enter name: \")\n",
    "ag = int(input(\"Enter Age: \"))\n",
    "student(b=n,a=ag)"
   ]
  },
  {
   "cell_type": "markdown",
   "id": "9a457054",
   "metadata": {},
   "source": [
    "## Variable-Length Argument:"
   ]
  },
  {
   "cell_type": "code",
   "execution_count": 38,
   "id": "d3f6f1ae",
   "metadata": {},
   "outputs": [
    {
     "name": "stdout",
     "output_type": "stream",
     "text": [
      "1 <class 'int'>\n",
      "('Lalitha', 45, 89.0151) <class 'tuple'>\n"
     ]
    }
   ],
   "source": [
    "def sample(s,*y):\n",
    "    print(s,type(s))\n",
    "    print(y,type(y))\n",
    "    return\n",
    "\n",
    "sample(1,'Lalitha',45,89.0151)"
   ]
  },
  {
   "cell_type": "code",
   "execution_count": 39,
   "id": "12a94860",
   "metadata": {},
   "outputs": [
    {
     "name": "stdout",
     "output_type": "stream",
     "text": [
      "(1, 'Lalitha', 45, 89.0151) <class 'tuple'>\n"
     ]
    }
   ],
   "source": [
    "def sample(*y):\n",
    "    print(y,type(y))\n",
    "    return\n",
    "\n",
    "sample(1,'Lalitha',45,89.0151)"
   ]
  },
  {
   "cell_type": "code",
   "execution_count": 43,
   "id": "21b3cfc8",
   "metadata": {},
   "outputs": [
    {
     "name": "stdout",
     "output_type": "stream",
     "text": [
      "{'sno': 1, 'name': 'Lalitha', 'age': 45, 'per': 89.0151} <class 'dict'>\n"
     ]
    }
   ],
   "source": [
    "def sample(**y):\n",
    "    print(y,type(y))\n",
    "    return\n",
    "\n",
    "sample(sno=1,name='Lalitha',age=45,per=89.0151)"
   ]
  },
  {
   "cell_type": "code",
   "execution_count": 44,
   "id": "39187fbc",
   "metadata": {},
   "outputs": [
    {
     "name": "stdout",
     "output_type": "stream",
     "text": [
      "Suresh <class 'str'>\n",
      "{'sno': 1, 'name': 'Lalitha', 'age': 45, 'per': 89.0151} <class 'dict'>\n"
     ]
    }
   ],
   "source": [
    "def sample(q,**y):\n",
    "    print(q,type(q))\n",
    "    print(y,type(y))\n",
    "    return\n",
    "\n",
    "sample('Suresh',sno=1,name='Lalitha',age=45,per=89.0151)"
   ]
  },
  {
   "cell_type": "code",
   "execution_count": 46,
   "id": "c2f3fa9d",
   "metadata": {},
   "outputs": [
    {
     "name": "stdout",
     "output_type": "stream",
     "text": [
      "Suresh <class 'str'>\n",
      "(78, 89, 45, 78, 56) <class 'tuple'>\n",
      "{'sno': 1, 'name': 'Lalitha', 'age': 45, 'per': 89.0151} <class 'dict'>\n"
     ]
    }
   ],
   "source": [
    "def sample(q,*p,**y):\n",
    "    print(q,type(q))\n",
    "    print(p,type(p))\n",
    "    print(y,type(y))\n",
    "    return\n",
    "\n",
    "sample('Suresh',78,89,45,78,56,sno=1,name='Lalitha',age=45,per=89.0151)"
   ]
  },
  {
   "cell_type": "code",
   "execution_count": 47,
   "id": "66906ab6",
   "metadata": {},
   "outputs": [
    {
     "ename": "SyntaxError",
     "evalue": "positional argument follows keyword argument (1237240154.py, line 7)",
     "output_type": "error",
     "traceback": [
      "\u001b[1;36m  Cell \u001b[1;32mIn[47], line 7\u001b[1;36m\u001b[0m\n\u001b[1;33m    sample(first_name='Suresh',78,89,45,78,56,sno=1,name='Lalitha',age=45,per=89.0151)\u001b[0m\n\u001b[1;37m                                                                                     ^\u001b[0m\n\u001b[1;31mSyntaxError\u001b[0m\u001b[1;31m:\u001b[0m positional argument follows keyword argument\n"
     ]
    }
   ],
   "source": [
    "def sample(q,*p,**y):\n",
    "    print(q,type(q))\n",
    "    print(p,type(p))\n",
    "    print(y,type(y))\n",
    "    return\n",
    "\n",
    "sample(first_name='Suresh',78,89,45,78,56,sno=1,name='Lalitha',age=45,per=89.0151)"
   ]
  },
  {
   "cell_type": "markdown",
   "id": "1a7938bc",
   "metadata": {},
   "source": [
    "## Data Structures:\n",
    "    - to organise the data in order or unorder format\n",
    "    - List\n",
    "    - Tuple\n",
    "    - Set\n",
    "    - String\n",
    "    - Dictionary"
   ]
  },
  {
   "cell_type": "markdown",
   "id": "f1b243b7",
   "metadata": {},
   "source": [
    "## List:\n",
    "    - It can be represented as \"[]\"\n",
    "    - It allows duplicate values\n",
    "    - It stores all data type elements\n",
    "    - It can changes the values in a list\n",
    "    - It stores data in ordered format\n",
    "    - Slicing can be done because of index\n",
    "    - It can be typecasted as list()"
   ]
  },
  {
   "cell_type": "code",
   "execution_count": 50,
   "id": "267c6a8c",
   "metadata": {},
   "outputs": [
    {
     "name": "stdout",
     "output_type": "stream",
     "text": [
      "[1, 56.01, 'Prasad', (5+6j), None, False, '45', 78, 78, 87, 8, 7] <class 'list'>\n"
     ]
    }
   ],
   "source": [
    "s = [1,56.01,'Prasad',5+6j,None,False,'45',78,78,87,8,7]\n",
    "print(s,type(s))"
   ]
  },
  {
   "cell_type": "code",
   "execution_count": 52,
   "id": "20436171",
   "metadata": {},
   "outputs": [
    {
     "name": "stdout",
     "output_type": "stream",
     "text": [
      "1 <class 'int'>\n",
      "56.01 <class 'float'>\n",
      "Prasad <class 'str'>\n",
      "(5+6j) <class 'complex'>\n",
      "None <class 'NoneType'>\n",
      "False <class 'bool'>\n",
      "45 <class 'str'>\n",
      "78 <class 'int'>\n",
      "78 <class 'int'>\n",
      "87 <class 'int'>\n",
      "8 <class 'int'>\n",
      "7 <class 'int'>\n"
     ]
    }
   ],
   "source": [
    "for i in range(len(s)):\n",
    "    print(s[i],type(s[i]))"
   ]
  },
  {
   "cell_type": "code",
   "execution_count": 53,
   "id": "9245a73a",
   "metadata": {},
   "outputs": [
    {
     "name": "stdout",
     "output_type": "stream",
     "text": [
      "1 <class 'int'>\n",
      "56.01 <class 'float'>\n",
      "Prasad <class 'str'>\n",
      "(5+6j) <class 'complex'>\n",
      "None <class 'NoneType'>\n",
      "False <class 'bool'>\n",
      "45 <class 'str'>\n",
      "78 <class 'int'>\n",
      "78 <class 'int'>\n",
      "87 <class 'int'>\n",
      "8 <class 'int'>\n",
      "7 <class 'int'>\n"
     ]
    }
   ],
   "source": [
    "for i in s:\n",
    "    print(i,type(i))"
   ]
  },
  {
   "cell_type": "code",
   "execution_count": null,
   "id": "d251d70a",
   "metadata": {},
   "outputs": [],
   "source": []
  }
 ],
 "metadata": {
  "kernelspec": {
   "display_name": "Python 3 (ipykernel)",
   "language": "python",
   "name": "python3"
  },
  "language_info": {
   "codemirror_mode": {
    "name": "ipython",
    "version": 3
   },
   "file_extension": ".py",
   "mimetype": "text/x-python",
   "name": "python",
   "nbconvert_exporter": "python",
   "pygments_lexer": "ipython3",
   "version": "3.9.13"
  }
 },
 "nbformat": 4,
 "nbformat_minor": 5
}
