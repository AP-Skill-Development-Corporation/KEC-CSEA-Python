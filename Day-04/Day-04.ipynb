{
 "cells": [
  {
   "cell_type": "code",
   "execution_count": 2,
   "id": "e4b99908",
   "metadata": {},
   "outputs": [
    {
     "name": "stdout",
     "output_type": "stream",
     "text": [
      "Register\n",
      "Enter Username: yamini\n",
      "Enter Password: 12\n",
      "yamini User created Successfully\n",
      "Login\n",
      "Username: yamini\n",
      "Password: 12\n",
      "Welcome User yamini!!!!\n"
     ]
    }
   ],
   "source": [
    "print(\"Register\")\n",
    "h = input(\"Enter Username: \")\n",
    "k = input(\"Enter Password: \")\n",
    "print(f\"{h} User created Successfully\")\n",
    "print(\"Login\")\n",
    "n = input(\"Username: \")\n",
    "m = input(\"Password: \")\n",
    "if n == h:\n",
    "    if m == k:\n",
    "        print(f\"Welcome User {h}!!!!\")\n",
    "    else:\n",
    "        print(\"Invalid Username/Password\")\n",
    "else:\n",
    "    print(\"Invalid Username/Password\")"
   ]
  },
  {
   "cell_type": "code",
   "execution_count": 4,
   "id": "5cb0b5df",
   "metadata": {},
   "outputs": [
    {
     "name": "stdout",
     "output_type": "stream",
     "text": [
      "Register\n",
      "Enter Username: kalyan\n",
      "Enter Password: 159\n",
      "kalyan User created Successfully\n",
      "Login\n",
      "Username: kalyan\n",
      "Password: 159\n",
      "Welcome User kalyan!!!!\n"
     ]
    }
   ],
   "source": [
    "print(\"Register\")\n",
    "h = input(\"Enter Username: \")\n",
    "k = input(\"Enter Password: \")\n",
    "print(f\"{h} User created Successfully\")\n",
    "print(\"Login\")\n",
    "n = input(\"Username: \")\n",
    "m = input(\"Password: \")\n",
    "if n == h and m == k:\n",
    "    print(f\"Welcome User {h}!!!!\")\n",
    "else:\n",
    "    print(\"Invalid Username/Password\")"
   ]
  },
  {
   "cell_type": "code",
   "execution_count": 7,
   "id": "92e2be0a",
   "metadata": {},
   "outputs": [
    {
     "name": "stdout",
     "output_type": "stream",
     "text": [
      "Enter Username: raju\n",
      "Enter Password: w45\n",
      "Welcome User raju\n"
     ]
    }
   ],
   "source": [
    "h = input(\"Enter Username: \")\n",
    "if h == \"raju\":\n",
    "    b = input(\"Enter Password: \")\n",
    "    if b == \"w45\":\n",
    "        print(f\"Welcome User {h}\")\n",
    "    else:\n",
    "        print(\"Invalid Password\")\n",
    "else:\n",
    "    print(f\"Invalid Username {h}\")"
   ]
  },
  {
   "cell_type": "code",
   "execution_count": 10,
   "id": "92105d9f",
   "metadata": {},
   "outputs": [
    {
     "name": "stdout",
     "output_type": "stream",
     "text": [
      "---------------Register---------------\n",
      "Create Username: ramesh\n",
      "Create Password: 78\n",
      "ramesh User Created Successfully\n",
      "------------Login------------\n",
      "Enter Username: ramesh\n",
      "Enter Password: 78\n",
      "Welcome User ramesh\n"
     ]
    }
   ],
   "source": [
    "print(\"---------------Register---------------\")\n",
    "u = input(\"Create Username: \")\n",
    "p = input(\"Create Password: \")\n",
    "print(f\"{u} User Created Successfully\")\n",
    "print(\"------------Login------------\")\n",
    "h = input(\"Enter Username: \")\n",
    "if h == u:\n",
    "    b = input(\"Enter Password: \")\n",
    "    if b == p:\n",
    "        print(f\"Welcome User {h}\")\n",
    "    else:\n",
    "        print(\"Invalid Password\")\n",
    "else:\n",
    "    print(f\"Invalid Username {h}\")"
   ]
  },
  {
   "cell_type": "markdown",
   "id": "bea5b014",
   "metadata": {},
   "source": [
    "## Elif\n",
    "    Syntax:\n",
    "        if condition-1:\n",
    "            //stmnt-1\n",
    "        elif condition-2:\n",
    "            //stmnt-2\n",
    "        elif condition-n:\n",
    "            //stmnt-n\n",
    "            |        |\n",
    "        else:\n",
    "            //stmnt-(n-2)"
   ]
  },
  {
   "cell_type": "code",
   "execution_count": 13,
   "id": "6c1b240a",
   "metadata": {},
   "outputs": [
    {
     "name": "stdout",
     "output_type": "stream",
     "text": [
      "Enter a number: 7\n",
      "Given number 7 is Odd\n"
     ]
    }
   ],
   "source": [
    "n = int(input(\"Enter a number: \"))\n",
    "if n%3==0:\n",
    "    print(f\"Given number {n} is divisible by 3\")\n",
    "elif n%2==0 and n<5:\n",
    "    print(f\"Given number {n} is Even and below of 5\")\n",
    "elif n%2==0 and (n>5 and n<10):\n",
    "    print(f\"Given number {n} is Even and in between of 5 and 10\")\n",
    "elif n%2==0:\n",
    "    print(f\"Given number {n} is Even\")\n",
    "else:\n",
    "    print(f\"Given number {n} is Odd\")"
   ]
  },
  {
   "cell_type": "markdown",
   "id": "9845b6fd",
   "metadata": {},
   "source": [
    "## Loops:\n",
    "    - to iterate a statement for n number of times\n",
    "    - for => for known ranges\n",
    "    - while => for known and unknown ranges"
   ]
  },
  {
   "cell_type": "markdown",
   "id": "19c0eacd",
   "metadata": {},
   "source": [
    "## for:\n",
    "    Syntax:\n",
    "        for itreationvariablename in range(start,stop,step):\n",
    "            //stmnts\n",
    "                            \n",
    "                            or\n",
    "        for iterationariablename in iterator:\n",
    "            //stmnts\n",
    "        \n",
    "        Iterators => List,tuple,string and dictionary"
   ]
  },
  {
   "cell_type": "markdown",
   "id": "db6de8c0",
   "metadata": {},
   "source": [
    "## range:\n",
    "    - range(stop)\n",
    "        => It starts with 0 \n",
    "        => It increments with +1 value\n",
    "        => It stops with stop-1 value\n",
    "        Ex:\n",
    "            range(5)\n",
    "            0 1 2 3 4\n",
    "    - range(start,stop)\n",
    "        => It starts exactly with start value\n",
    "        => It stops with stop-1 value\n",
    "        => It increments with +1 value\n",
    "        Ex:\n",
    "            range(2,6)\n",
    "            2 3 4 5\n",
    "    - range(start,stop,step)\n",
    "        => It starts exactly with start value\n",
    "        => It stops with stop-1 value\n",
    "        => It increments/decrements with step value\n",
    "        Ex:\n",
    "            range(2,8,3)\n",
    "            2 5\n",
    "            "
   ]
  },
  {
   "cell_type": "code",
   "execution_count": 19,
   "id": "d2b5b3c6",
   "metadata": {},
   "outputs": [
    {
     "name": "stdout",
     "output_type": "stream",
     "text": [
      "Enter a range: 6\n",
      "0 1 2 3 4 5 "
     ]
    }
   ],
   "source": [
    "n = int(input(\"Enter a range: \"))\n",
    "for i in range(n):\n",
    "    print(i,end=\" \")"
   ]
  },
  {
   "cell_type": "code",
   "execution_count": 20,
   "id": "37e10539",
   "metadata": {},
   "outputs": [
    {
     "name": "stdout",
     "output_type": "stream",
     "text": [
      "Enter a range: 5\n",
      "4 3 2 1 0 "
     ]
    }
   ],
   "source": [
    "n = int(input(\"Enter a range: \"))\n",
    "for i in range(n):\n",
    "    print(n-i-1,end=\" \")"
   ]
  },
  {
   "cell_type": "code",
   "execution_count": 22,
   "id": "b414203c",
   "metadata": {},
   "outputs": [
    {
     "name": "stdout",
     "output_type": "stream",
     "text": [
      "Enter a range: 15\n",
      "00\n",
      "01\n",
      "02\n",
      "03\n",
      "04\n",
      "05\n",
      "06\n",
      "07\n",
      "08\n",
      "09\n",
      "10\n",
      "11\n",
      "12\n",
      "13\n",
      "14\n"
     ]
    }
   ],
   "source": [
    "m = int(input(\"Enter a range: \"))\n",
    "for j in range(m):\n",
    "    if j<10:\n",
    "        print(f\"0{j}\")\n",
    "    else:\n",
    "        print(j)"
   ]
  },
  {
   "cell_type": "code",
   "execution_count": 23,
   "id": "ffbea79a",
   "metadata": {},
   "outputs": [
    {
     "name": "stdout",
     "output_type": "stream",
     "text": [
      "Enter a range: 12\n",
      "00 01 02 03 04 05 06 07 08 09 10 11 "
     ]
    }
   ],
   "source": [
    "p = int(input(\"Enter a range: \"))\n",
    "for i in range(p):\n",
    "    print(f\"{i:02}\",end=\" \")"
   ]
  },
  {
   "cell_type": "code",
   "execution_count": 24,
   "id": "15a9f0f8",
   "metadata": {},
   "outputs": [
    {
     "name": "stdout",
     "output_type": "stream",
     "text": [
      "Enter start range: 50\n",
      "Enter end range: 55\n",
      "50 51 52 53 54 "
     ]
    }
   ],
   "source": [
    "n = int(input(\"Enter start range: \"))\n",
    "m = int(input(\"Enter end range: \"))\n",
    "for i in range(n,m):\n",
    "    print(i,end=\" \")"
   ]
  },
  {
   "cell_type": "code",
   "execution_count": 25,
   "id": "64fec79e",
   "metadata": {},
   "outputs": [
    {
     "name": "stdout",
     "output_type": "stream",
     "text": [
      "enter start range:10\n",
      "enter end range:20\n",
      "19 18 17 16 15 14 13 12 11 10 "
     ]
    }
   ],
   "source": [
    "n = int(input(\"enter start range:\")) \n",
    "m = int(input(\"enter end range:\"))\n",
    "for i in range(n,m):\n",
    "    print(n+m-i-1,end=\" \")"
   ]
  },
  {
   "cell_type": "code",
   "execution_count": 29,
   "id": "60f9ba8d",
   "metadata": {},
   "outputs": [
    {
     "name": "stdout",
     "output_type": "stream",
     "text": [
      "Enter start range: 40\n",
      "Enter end range: 20\n",
      "Enter step value: -10\n",
      "40 30 "
     ]
    }
   ],
   "source": [
    "a = int(input(\"Enter start range: \"))\n",
    "b = int(input(\"Enter end range: \"))\n",
    "c = int(input(\"Enter step value: \"))\n",
    "for i in range(a,b,c):\n",
    "    print(i,end=\" \")"
   ]
  },
  {
   "cell_type": "markdown",
   "id": "bb728771",
   "metadata": {},
   "source": [
    "## While:\n",
    "    Syntax:\n",
    "        initialisation\n",
    "        while condition:\n",
    "            //stmnts\n",
    "            incr/decr"
   ]
  },
  {
   "cell_type": "code",
   "execution_count": 2,
   "id": "fe7deeb1",
   "metadata": {},
   "outputs": [
    {
     "name": "stdout",
     "output_type": "stream",
     "text": [
      "Enter a range: 20\n",
      "0 1 2 3 4 5 6 7 8 9 10 11 12 13 14 15 16 17 18 19 "
     ]
    }
   ],
   "source": [
    "i=0\n",
    "n = int(input(\"Enter a range: \"))\n",
    "while i<n:\n",
    "    print(i,end=\" \")\n",
    "    i+=1"
   ]
  },
  {
   "cell_type": "code",
   "execution_count": 3,
   "id": "00cbf476",
   "metadata": {},
   "outputs": [
    {
     "name": "stdout",
     "output_type": "stream",
     "text": [
      "Enter start range: 10\n",
      "Enter end range: 20\n",
      "10 11 12 13 14 15 16 17 18 19 "
     ]
    }
   ],
   "source": [
    "h = int(input(\"Enter start range: \"))\n",
    "k = int(input(\"Enter end range: \"))\n",
    "while h<k:\n",
    "    print(h,end=\" \")\n",
    "    h+=1"
   ]
  },
  {
   "cell_type": "code",
   "execution_count": 5,
   "id": "c99038b7",
   "metadata": {},
   "outputs": [
    {
     "name": "stdout",
     "output_type": "stream",
     "text": [
      "Enter a range: 9\n",
      "8 7 6 5 4 3 2 1 0 "
     ]
    }
   ],
   "source": [
    "k = int(input(\"Enter a range: \"))\n",
    "while k>0:\n",
    "    k-=1\n",
    "    print(k,end=\" \")"
   ]
  },
  {
   "cell_type": "markdown",
   "id": "c2a0f204",
   "metadata": {},
   "source": [
    "## Jumping Statements:\n",
    "    - break => It terminates from loop\n",
    "    - continue => It skips from a loop\n",
    "    - pass => It skips from loop and for further enhancements we can prefere pass\n",
    "    - return => It returns single or n number of values"
   ]
  },
  {
   "cell_type": "code",
   "execution_count": 8,
   "id": "18cf5887",
   "metadata": {},
   "outputs": [
    {
     "name": "stdout",
     "output_type": "stream",
     "text": [
      "Enter a range: 5\n",
      "0 1 2 "
     ]
    }
   ],
   "source": [
    "n = int(input(\"Enter a range: \"))\n",
    "for i in range(n):\n",
    "    if i == 3:\n",
    "        break\n",
    "    else:\n",
    "        print(i,end=\" \")"
   ]
  },
  {
   "cell_type": "code",
   "execution_count": 9,
   "id": "75cdb952",
   "metadata": {},
   "outputs": [
    {
     "name": "stdout",
     "output_type": "stream",
     "text": [
      "Enter a range: 10\n",
      "0 1 2 4 5 6 7 8 9 "
     ]
    }
   ],
   "source": [
    "n = int(input(\"Enter a range: \"))\n",
    "for i in range(n):\n",
    "    if i == 3:\n",
    "        continue\n",
    "    else:\n",
    "        print(i,end=\" \")"
   ]
  },
  {
   "cell_type": "code",
   "execution_count": 10,
   "id": "f27c209c",
   "metadata": {},
   "outputs": [
    {
     "name": "stdout",
     "output_type": "stream",
     "text": [
      "Enter a range: 8\n",
      "0 1 2 4 5 6 7 "
     ]
    }
   ],
   "source": [
    "n = int(input(\"Enter a range: \"))\n",
    "for i in range(n):\n",
    "    if i == 3:\n",
    "        pass\n",
    "    else:\n",
    "        print(i,end=\" \")"
   ]
  },
  {
   "cell_type": "code",
   "execution_count": 13,
   "id": "209e155e",
   "metadata": {},
   "outputs": [
    {
     "name": "stdout",
     "output_type": "stream",
     "text": [
      "Enter a value: 1234\n",
      "Given number is: 1234 and its reverse is: 4321\n"
     ]
    }
   ],
   "source": [
    "n=int(input(\"Enter a value: \"))\n",
    "k=0\n",
    "print(f\"Given number is: {n}\",end=\" \")\n",
    "while n!=0:\n",
    "    k=k*10+n%10\n",
    "    n//=10\n",
    "print(f\"and its reverse is: {k}\")"
   ]
  },
  {
   "cell_type": "code",
   "execution_count": 16,
   "id": "64e6f395",
   "metadata": {},
   "outputs": [
    {
     "name": "stdout",
     "output_type": "stream",
     "text": [
      "Enter a number: 8745646435355131\n",
      "Given number is: 8745646435355131 and its digit count is: 16\n"
     ]
    }
   ],
   "source": [
    "g = int(input(\"Enter a number: \"))\n",
    "c = 0\n",
    "print(f\"Given number is: {g}\",end=\" \")\n",
    "while g!=0:\n",
    "    c+=1\n",
    "    g//=10\n",
    "print(f\"and its digit count is: {c}\")"
   ]
  },
  {
   "cell_type": "code",
   "execution_count": 18,
   "id": "9dcdf3a0",
   "metadata": {},
   "outputs": [
    {
     "name": "stdout",
     "output_type": "stream",
     "text": [
      "1.Add\n",
      "2.Sub\n",
      "3.Mul\n",
      "4.Exit\n",
      "Enter your choice: 5\n",
      "Enter Valid choice\n",
      "\n",
      "1.Add\n",
      "2.Sub\n",
      "3.Mul\n",
      "4.Exit\n",
      "Enter your choice: 2\n",
      "Enter a value: 3\n",
      "Enter b value: 5\n",
      "Substraction of 3 and 5 is: -2\n",
      "1.Add\n",
      "2.Sub\n",
      "3.Mul\n",
      "4.Exit\n",
      "Enter your choice: 4\n"
     ]
    }
   ],
   "source": [
    "while True:\n",
    "    print(\"1.Add\\n2.Sub\\n3.Mul\\n4.Exit\")\n",
    "    n = int(input(\"Enter your choice: \"))\n",
    "    if n == 1:\n",
    "        z = int(input(\"Enter a value: \"))\n",
    "        w = int(input(\"Enter b value: \"))\n",
    "        print(f\"Addition of {z} and {w} is: {z+w}\")\n",
    "    elif n == 2:\n",
    "        z = int(input(\"Enter a value: \"))\n",
    "        w = int(input(\"Enter b value: \"))\n",
    "        print(f\"Substraction of {z} and {w} is: {z-w}\")\n",
    "    elif n == 3:\n",
    "        z = int(input(\"Enter a value: \"))\n",
    "        w = int(input(\"Enter b value: \"))\n",
    "        print(f\"Multiplication of {z} and {w} is: {z*w}\")\n",
    "    elif n == 4:\n",
    "        break\n",
    "    else:\n",
    "        print(\"Enter Valid choice\\n\")"
   ]
  },
  {
   "cell_type": "markdown",
   "id": "735c46be",
   "metadata": {},
   "source": [
    "## Inner Loops or Nested Loops:\n",
    "    - Loop within a Loop"
   ]
  },
  {
   "cell_type": "code",
   "execution_count": 20,
   "id": "cc38bd40",
   "metadata": {},
   "outputs": [
    {
     "name": "stdout",
     "output_type": "stream",
     "text": [
      "Enter a range: 5\n",
      "* * * * * \n",
      "* * * * * \n",
      "* * * * * \n",
      "* * * * * \n",
      "* * * * * \n"
     ]
    }
   ],
   "source": [
    "n = int(input(\"Enter a range: \"))\n",
    "for i in range(n):\n",
    "    for j in range(n):\n",
    "        print('*',end=\" \")\n",
    "    print()"
   ]
  },
  {
   "cell_type": "code",
   "execution_count": 34,
   "id": "a87c7a85",
   "metadata": {},
   "outputs": [
    {
     "name": "stdout",
     "output_type": "stream",
     "text": [
      "Enter a range: 5\n",
      "* * * * * \n",
      "* - - - * \n",
      "* - - - * \n",
      "* - - - * \n",
      "* * * * * \n"
     ]
    }
   ],
   "source": [
    "n = int(input(\"Enter a range: \"))\n",
    "for i in range(n):\n",
    "    for j in range(n):\n",
    "        if i==0 or j==0 or i==n-1 or j==n-1:\n",
    "            print('*',end=\" \")\n",
    "        else:\n",
    "            print(\"-\",end=\" \")\n",
    "    print()"
   ]
  },
  {
   "cell_type": "code",
   "execution_count": null,
   "id": "901fe788",
   "metadata": {},
   "outputs": [],
   "source": []
  }
 ],
 "metadata": {
  "kernelspec": {
   "display_name": "Python 3 (ipykernel)",
   "language": "python",
   "name": "python3"
  },
  "language_info": {
   "codemirror_mode": {
    "name": "ipython",
    "version": 3
   },
   "file_extension": ".py",
   "mimetype": "text/x-python",
   "name": "python",
   "nbconvert_exporter": "python",
   "pygments_lexer": "ipython3",
   "version": "3.9.13"
  }
 },
 "nbformat": 4,
 "nbformat_minor": 5
}
