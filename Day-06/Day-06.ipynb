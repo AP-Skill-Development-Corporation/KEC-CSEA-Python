{
 "cells": [
  {
   "cell_type": "code",
   "execution_count": 1,
   "id": "6ee16bef",
   "metadata": {},
   "outputs": [
    {
     "name": "stdout",
     "output_type": "stream",
     "text": [
      "['__add__', '__class__', '__class_getitem__', '__contains__', '__delattr__', '__delitem__', '__dir__', '__doc__', '__eq__', '__format__', '__ge__', '__getattribute__', '__getitem__', '__gt__', '__hash__', '__iadd__', '__imul__', '__init__', '__init_subclass__', '__iter__', '__le__', '__len__', '__lt__', '__mul__', '__ne__', '__new__', '__reduce__', '__reduce_ex__', '__repr__', '__reversed__', '__rmul__', '__setattr__', '__setitem__', '__sizeof__', '__str__', '__subclasshook__', 'append', 'clear', 'copy', 'count', 'extend', 'index', 'insert', 'pop', 'remove', 'reverse', 'sort']\n"
     ]
    }
   ],
   "source": [
    "k = []\n",
    "print(dir(k))"
   ]
  },
  {
   "cell_type": "code",
   "execution_count": 2,
   "id": "940e2405",
   "metadata": {},
   "outputs": [
    {
     "name": "stdout",
     "output_type": "stream",
     "text": [
      "Append object to the end of the list.\n"
     ]
    }
   ],
   "source": [
    "print(k.append.__doc__)"
   ]
  },
  {
   "cell_type": "code",
   "execution_count": 3,
   "id": "4ff4a0d2",
   "metadata": {},
   "outputs": [
    {
     "name": "stdout",
     "output_type": "stream",
     "text": [
      "Forward raw_input to frontends\n",
      "\n",
      "        Raises\n",
      "        ------\n",
      "        StdinNotImplementedError if active frontend doesn't support stdin.\n",
      "        \n"
     ]
    }
   ],
   "source": [
    "print(input.__doc__)"
   ]
  },
  {
   "cell_type": "code",
   "execution_count": 4,
   "id": "68e90744",
   "metadata": {},
   "outputs": [
    {
     "name": "stdout",
     "output_type": "stream",
     "text": [
      "print(value, ..., sep=' ', end='\\n', file=sys.stdout, flush=False)\n",
      "\n",
      "Prints the values to a stream, or to sys.stdout by default.\n",
      "Optional keyword arguments:\n",
      "file:  a file-like object (stream); defaults to the current sys.stdout.\n",
      "sep:   string inserted between values, default a space.\n",
      "end:   string appended after the last value, default a newline.\n",
      "flush: whether to forcibly flush the stream.\n"
     ]
    }
   ],
   "source": [
    "print(print.__doc__)"
   ]
  },
  {
   "cell_type": "code",
   "execution_count": 5,
   "id": "a524f435",
   "metadata": {},
   "outputs": [
    {
     "name": "stdout",
     "output_type": "stream",
     "text": [
      "Help on method_descriptor:\n",
      "\n",
      "append(self, object, /)\n",
      "    Append object to the end of the list.\n",
      "\n"
     ]
    }
   ],
   "source": [
    "help(list.append)"
   ]
  },
  {
   "cell_type": "code",
   "execution_count": 6,
   "id": "b6688100",
   "metadata": {},
   "outputs": [
    {
     "name": "stdout",
     "output_type": "stream",
     "text": [
      "Help on class list in module builtins:\n",
      "\n",
      "class list(object)\n",
      " |  list(iterable=(), /)\n",
      " |  \n",
      " |  Built-in mutable sequence.\n",
      " |  \n",
      " |  If no argument is given, the constructor creates a new empty list.\n",
      " |  The argument must be an iterable if specified.\n",
      " |  \n",
      " |  Methods defined here:\n",
      " |  \n",
      " |  __add__(self, value, /)\n",
      " |      Return self+value.\n",
      " |  \n",
      " |  __contains__(self, key, /)\n",
      " |      Return key in self.\n",
      " |  \n",
      " |  __delitem__(self, key, /)\n",
      " |      Delete self[key].\n",
      " |  \n",
      " |  __eq__(self, value, /)\n",
      " |      Return self==value.\n",
      " |  \n",
      " |  __ge__(self, value, /)\n",
      " |      Return self>=value.\n",
      " |  \n",
      " |  __getattribute__(self, name, /)\n",
      " |      Return getattr(self, name).\n",
      " |  \n",
      " |  __getitem__(...)\n",
      " |      x.__getitem__(y) <==> x[y]\n",
      " |  \n",
      " |  __gt__(self, value, /)\n",
      " |      Return self>value.\n",
      " |  \n",
      " |  __iadd__(self, value, /)\n",
      " |      Implement self+=value.\n",
      " |  \n",
      " |  __imul__(self, value, /)\n",
      " |      Implement self*=value.\n",
      " |  \n",
      " |  __init__(self, /, *args, **kwargs)\n",
      " |      Initialize self.  See help(type(self)) for accurate signature.\n",
      " |  \n",
      " |  __iter__(self, /)\n",
      " |      Implement iter(self).\n",
      " |  \n",
      " |  __le__(self, value, /)\n",
      " |      Return self<=value.\n",
      " |  \n",
      " |  __len__(self, /)\n",
      " |      Return len(self).\n",
      " |  \n",
      " |  __lt__(self, value, /)\n",
      " |      Return self<value.\n",
      " |  \n",
      " |  __mul__(self, value, /)\n",
      " |      Return self*value.\n",
      " |  \n",
      " |  __ne__(self, value, /)\n",
      " |      Return self!=value.\n",
      " |  \n",
      " |  __repr__(self, /)\n",
      " |      Return repr(self).\n",
      " |  \n",
      " |  __reversed__(self, /)\n",
      " |      Return a reverse iterator over the list.\n",
      " |  \n",
      " |  __rmul__(self, value, /)\n",
      " |      Return value*self.\n",
      " |  \n",
      " |  __setitem__(self, key, value, /)\n",
      " |      Set self[key] to value.\n",
      " |  \n",
      " |  __sizeof__(self, /)\n",
      " |      Return the size of the list in memory, in bytes.\n",
      " |  \n",
      " |  append(self, object, /)\n",
      " |      Append object to the end of the list.\n",
      " |  \n",
      " |  clear(self, /)\n",
      " |      Remove all items from list.\n",
      " |  \n",
      " |  copy(self, /)\n",
      " |      Return a shallow copy of the list.\n",
      " |  \n",
      " |  count(self, value, /)\n",
      " |      Return number of occurrences of value.\n",
      " |  \n",
      " |  extend(self, iterable, /)\n",
      " |      Extend list by appending elements from the iterable.\n",
      " |  \n",
      " |  index(self, value, start=0, stop=9223372036854775807, /)\n",
      " |      Return first index of value.\n",
      " |      \n",
      " |      Raises ValueError if the value is not present.\n",
      " |  \n",
      " |  insert(self, index, object, /)\n",
      " |      Insert object before index.\n",
      " |  \n",
      " |  pop(self, index=-1, /)\n",
      " |      Remove and return item at index (default last).\n",
      " |      \n",
      " |      Raises IndexError if list is empty or index is out of range.\n",
      " |  \n",
      " |  remove(self, value, /)\n",
      " |      Remove first occurrence of value.\n",
      " |      \n",
      " |      Raises ValueError if the value is not present.\n",
      " |  \n",
      " |  reverse(self, /)\n",
      " |      Reverse *IN PLACE*.\n",
      " |  \n",
      " |  sort(self, /, *, key=None, reverse=False)\n",
      " |      Sort the list in ascending order and return None.\n",
      " |      \n",
      " |      The sort is in-place (i.e. the list itself is modified) and stable (i.e. the\n",
      " |      order of two equal elements is maintained).\n",
      " |      \n",
      " |      If a key function is given, apply it once to each list item and sort them,\n",
      " |      ascending or descending, according to their function values.\n",
      " |      \n",
      " |      The reverse flag can be set to sort in descending order.\n",
      " |  \n",
      " |  ----------------------------------------------------------------------\n",
      " |  Class methods defined here:\n",
      " |  \n",
      " |  __class_getitem__(...) from builtins.type\n",
      " |      See PEP 585\n",
      " |  \n",
      " |  ----------------------------------------------------------------------\n",
      " |  Static methods defined here:\n",
      " |  \n",
      " |  __new__(*args, **kwargs) from builtins.type\n",
      " |      Create and return a new object.  See help(type) for accurate signature.\n",
      " |  \n",
      " |  ----------------------------------------------------------------------\n",
      " |  Data and other attributes defined here:\n",
      " |  \n",
      " |  __hash__ = None\n",
      "\n"
     ]
    }
   ],
   "source": [
    "help(list)"
   ]
  },
  {
   "cell_type": "code",
   "execution_count": 7,
   "id": "39fad101",
   "metadata": {},
   "outputs": [
    {
     "name": "stdout",
     "output_type": "stream",
     "text": [
      "Built-in mutable sequence.\n",
      "\n",
      "If no argument is given, the constructor creates a new empty list.\n",
      "The argument must be an iterable if specified.\n"
     ]
    }
   ],
   "source": [
    "print(list.__doc__)"
   ]
  },
  {
   "cell_type": "code",
   "execution_count": 8,
   "id": "39f5f8dc",
   "metadata": {},
   "outputs": [
    {
     "name": "stdout",
     "output_type": "stream",
     "text": [
      "[]\n",
      "[45]\n"
     ]
    }
   ],
   "source": [
    "y = []\n",
    "print(y)\n",
    "y.append(45)\n",
    "print(y)"
   ]
  },
  {
   "cell_type": "code",
   "execution_count": 9,
   "id": "f1c82c26",
   "metadata": {},
   "outputs": [
    {
     "name": "stdout",
     "output_type": "stream",
     "text": [
      "[45]\n",
      "[45, '78']\n"
     ]
    }
   ],
   "source": [
    "print(y)\n",
    "y.append('78')\n",
    "print(y)"
   ]
  },
  {
   "cell_type": "code",
   "execution_count": 10,
   "id": "2b866152",
   "metadata": {},
   "outputs": [
    {
     "name": "stdout",
     "output_type": "stream",
     "text": [
      "[45, '78']\n"
     ]
    },
    {
     "ename": "TypeError",
     "evalue": "list.append() takes exactly one argument (2 given)",
     "output_type": "error",
     "traceback": [
      "\u001b[1;31m-------------------------------------------------------------------\u001b[0m",
      "\u001b[1;31mTypeError\u001b[0m                         Traceback (most recent call last)",
      "Cell \u001b[1;32mIn[10], line 2\u001b[0m\n\u001b[0;32m      1\u001b[0m \u001b[38;5;28mprint\u001b[39m(y)\n\u001b[1;32m----> 2\u001b[0m \u001b[43my\u001b[49m\u001b[38;5;241;43m.\u001b[39;49m\u001b[43mappend\u001b[49m\u001b[43m(\u001b[49m\u001b[38;5;28;43;01mTrue\u001b[39;49;00m\u001b[43m,\u001b[49m\u001b[38;5;124;43m'\u001b[39;49m\u001b[38;5;124;43mKalyan\u001b[39;49m\u001b[38;5;124;43m'\u001b[39;49m\u001b[43m)\u001b[49m\n\u001b[0;32m      3\u001b[0m \u001b[38;5;28mprint\u001b[39m(y)\n",
      "\u001b[1;31mTypeError\u001b[0m: list.append() takes exactly one argument (2 given)"
     ]
    }
   ],
   "source": [
    "print(y)\n",
    "y.append(True,'Kalyan')\n",
    "print(y)"
   ]
  },
  {
   "cell_type": "code",
   "execution_count": 11,
   "id": "ad679b2b",
   "metadata": {},
   "outputs": [
    {
     "name": "stdout",
     "output_type": "stream",
     "text": [
      "[45, '78']\n",
      "[45, '78', [45, 89]]\n"
     ]
    }
   ],
   "source": [
    "print(y)\n",
    "y.append([45,89])\n",
    "print(y)"
   ]
  },
  {
   "cell_type": "code",
   "execution_count": 12,
   "id": "fe93a754",
   "metadata": {},
   "outputs": [
    {
     "name": "stdout",
     "output_type": "stream",
     "text": [
      "[45, '78', [45, 89]]\n",
      "[45, '78', [45, 89], (45, 89)]\n"
     ]
    }
   ],
   "source": [
    "print(y)\n",
    "y.append((45,89))\n",
    "print(y)"
   ]
  },
  {
   "cell_type": "code",
   "execution_count": 13,
   "id": "cd3ebe56",
   "metadata": {},
   "outputs": [
    {
     "name": "stdout",
     "output_type": "stream",
     "text": [
      "[45, '78', [45, 89], (45, 89)]\n",
      "[45, '78', [45, 89], (45, 89), {898, 45}]\n"
     ]
    }
   ],
   "source": [
    "print(y)\n",
    "y.append({45,898})\n",
    "print(y)"
   ]
  },
  {
   "cell_type": "code",
   "execution_count": 14,
   "id": "d101cb34",
   "metadata": {},
   "outputs": [
    {
     "name": "stdout",
     "output_type": "stream",
     "text": [
      "[]\n"
     ]
    },
    {
     "ename": "TypeError",
     "evalue": "'int' object is not iterable",
     "output_type": "error",
     "traceback": [
      "\u001b[1;31m-------------------------------------------------------------------\u001b[0m",
      "\u001b[1;31mTypeError\u001b[0m                         Traceback (most recent call last)",
      "Cell \u001b[1;32mIn[14], line 3\u001b[0m\n\u001b[0;32m      1\u001b[0m z \u001b[38;5;241m=\u001b[39m []\n\u001b[0;32m      2\u001b[0m \u001b[38;5;28mprint\u001b[39m(z)\n\u001b[1;32m----> 3\u001b[0m \u001b[43mz\u001b[49m\u001b[38;5;241;43m.\u001b[39;49m\u001b[43mextend\u001b[49m\u001b[43m(\u001b[49m\u001b[38;5;241;43m45\u001b[39;49m\u001b[43m)\u001b[49m\n\u001b[0;32m      4\u001b[0m \u001b[38;5;28mprint\u001b[39m(z)\n",
      "\u001b[1;31mTypeError\u001b[0m: 'int' object is not iterable"
     ]
    }
   ],
   "source": [
    "z = []\n",
    "print(z)\n",
    "z.extend(45)\n",
    "print(z)"
   ]
  },
  {
   "cell_type": "code",
   "execution_count": 15,
   "id": "5e44f84f",
   "metadata": {},
   "outputs": [
    {
     "name": "stdout",
     "output_type": "stream",
     "text": [
      "[]\n",
      "['K', 'a', 'l', 'y', 'a', 'n']\n"
     ]
    }
   ],
   "source": [
    "z = []\n",
    "print(z)\n",
    "z.extend('Kalyan')\n",
    "print(z)"
   ]
  },
  {
   "cell_type": "code",
   "execution_count": 16,
   "id": "b1f8c671",
   "metadata": {},
   "outputs": [
    {
     "name": "stdout",
     "output_type": "stream",
     "text": [
      "[]\n"
     ]
    },
    {
     "ename": "TypeError",
     "evalue": "'bool' object is not iterable",
     "output_type": "error",
     "traceback": [
      "\u001b[1;31m-------------------------------------------------------------------\u001b[0m",
      "\u001b[1;31mTypeError\u001b[0m                         Traceback (most recent call last)",
      "Cell \u001b[1;32mIn[16], line 3\u001b[0m\n\u001b[0;32m      1\u001b[0m z \u001b[38;5;241m=\u001b[39m []\n\u001b[0;32m      2\u001b[0m \u001b[38;5;28mprint\u001b[39m(z)\n\u001b[1;32m----> 3\u001b[0m \u001b[43mz\u001b[49m\u001b[38;5;241;43m.\u001b[39;49m\u001b[43mextend\u001b[49m\u001b[43m(\u001b[49m\u001b[38;5;28;43;01mTrue\u001b[39;49;00m\u001b[43m)\u001b[49m\n\u001b[0;32m      4\u001b[0m \u001b[38;5;28mprint\u001b[39m(z)\n",
      "\u001b[1;31mTypeError\u001b[0m: 'bool' object is not iterable"
     ]
    }
   ],
   "source": [
    "z = []\n",
    "print(z)\n",
    "z.extend(True)\n",
    "print(z)"
   ]
  },
  {
   "cell_type": "code",
   "execution_count": 17,
   "id": "088c933c",
   "metadata": {},
   "outputs": [
    {
     "name": "stdout",
     "output_type": "stream",
     "text": [
      "[]\n"
     ]
    },
    {
     "ename": "TypeError",
     "evalue": "'complex' object is not iterable",
     "output_type": "error",
     "traceback": [
      "\u001b[1;31m-------------------------------------------------------------------\u001b[0m",
      "\u001b[1;31mTypeError\u001b[0m                         Traceback (most recent call last)",
      "Cell \u001b[1;32mIn[17], line 3\u001b[0m\n\u001b[0;32m      1\u001b[0m z \u001b[38;5;241m=\u001b[39m []\n\u001b[0;32m      2\u001b[0m \u001b[38;5;28mprint\u001b[39m(z)\n\u001b[1;32m----> 3\u001b[0m \u001b[43mz\u001b[49m\u001b[38;5;241;43m.\u001b[39;49m\u001b[43mextend\u001b[49m\u001b[43m(\u001b[49m\u001b[38;5;241;43m4\u001b[39;49m\u001b[38;5;241;43m+\u001b[39;49m\u001b[38;5;241;43m5\u001b[39;49m\u001b[43mj\u001b[49m\u001b[43m)\u001b[49m\n\u001b[0;32m      4\u001b[0m \u001b[38;5;28mprint\u001b[39m(z)\n",
      "\u001b[1;31mTypeError\u001b[0m: 'complex' object is not iterable"
     ]
    }
   ],
   "source": [
    "z = []\n",
    "print(z)\n",
    "z.extend(4+5j)\n",
    "print(z)"
   ]
  },
  {
   "cell_type": "code",
   "execution_count": 18,
   "id": "64e8cbb9",
   "metadata": {},
   "outputs": [
    {
     "name": "stdout",
     "output_type": "stream",
     "text": [
      "[]\n",
      "[45, 89.015, False]\n"
     ]
    }
   ],
   "source": [
    "z = []\n",
    "print(z)\n",
    "z.extend([45,89.015,False])\n",
    "print(z)"
   ]
  },
  {
   "cell_type": "code",
   "execution_count": 19,
   "id": "7750b4d6",
   "metadata": {},
   "outputs": [
    {
     "name": "stdout",
     "output_type": "stream",
     "text": [
      "[45, 89.015, False]\n",
      "[45, 89.015, False, 12, '45.0151', False]\n"
     ]
    }
   ],
   "source": [
    "print(z)\n",
    "z.extend((12,'45.0151',False))\n",
    "print(z)"
   ]
  },
  {
   "cell_type": "code",
   "execution_count": 20,
   "id": "50b0ee14",
   "metadata": {},
   "outputs": [
    {
     "name": "stdout",
     "output_type": "stream",
     "text": [
      "[]\n",
      "['Lalitha']\n"
     ]
    }
   ],
   "source": [
    "p = []\n",
    "print(p)\n",
    "p.insert(1,\"Lalitha\")\n",
    "print(p)"
   ]
  },
  {
   "cell_type": "code",
   "execution_count": 21,
   "id": "eb43acf1",
   "metadata": {},
   "outputs": [
    {
     "name": "stdout",
     "output_type": "stream",
     "text": [
      "['Lalitha']\n",
      "[['Prasad', 'Kavitha'], 'Lalitha']\n"
     ]
    }
   ],
   "source": [
    "print(p)\n",
    "p.insert(0,['Prasad','Kavitha'])\n",
    "print(p)"
   ]
  },
  {
   "cell_type": "code",
   "execution_count": 22,
   "id": "15425923",
   "metadata": {},
   "outputs": [
    {
     "name": "stdout",
     "output_type": "stream",
     "text": [
      "[['Prasad', 'Kavitha'], 'Lalitha']\n",
      "[['Prasad', 'Kavitha'], 'Lalitha', 89]\n"
     ]
    }
   ],
   "source": [
    "print(p)\n",
    "p.insert(5,89)\n",
    "print(p)"
   ]
  },
  {
   "cell_type": "code",
   "execution_count": 26,
   "id": "f9da049a",
   "metadata": {},
   "outputs": [
    {
     "name": "stdout",
     "output_type": "stream",
     "text": [
      "['__abs__', '__add__', '__bool__', '__class__', '__delattr__', '__dir__', '__divmod__', '__doc__', '__eq__', '__float__', '__floordiv__', '__format__', '__ge__', '__getattribute__', '__getnewargs__', '__gt__', '__hash__', '__init__', '__init_subclass__', '__int__', '__le__', '__lt__', '__mod__', '__mul__', '__ne__', '__neg__', '__new__', '__pos__', '__pow__', '__radd__', '__rdivmod__', '__reduce__', '__reduce_ex__', '__repr__', '__rfloordiv__', '__rmod__', '__rmul__', '__rpow__', '__rsub__', '__rtruediv__', '__setattr__', '__sizeof__', '__str__', '__sub__', '__subclasshook__', '__truediv__', 'conjugate', 'imag', 'real']\n"
     ]
    }
   ],
   "source": [
    "print(dir(complex))"
   ]
  },
  {
   "cell_type": "code",
   "execution_count": 27,
   "id": "ac64e119",
   "metadata": {},
   "outputs": [
    {
     "name": "stdout",
     "output_type": "stream",
     "text": [
      "[45, 89, 45, 78, 32]\n",
      "2\n",
      "0\n"
     ]
    }
   ],
   "source": [
    "h = [45,89,45,78,32]\n",
    "print(h)\n",
    "print(h.count(45))\n",
    "print(h.count(-56))"
   ]
  },
  {
   "cell_type": "code",
   "execution_count": 29,
   "id": "dd0a7830",
   "metadata": {},
   "outputs": [
    {
     "name": "stdout",
     "output_type": "stream",
     "text": [
      "[78, 89]\n",
      "[78, 89] 1492955139456\n",
      "[78, 89] 1492955156224\n"
     ]
    }
   ],
   "source": [
    "b = [78,89]\n",
    "print(b)\n",
    "c = b.copy()\n",
    "print(b,id(b))\n",
    "print(c,id(c))"
   ]
  },
  {
   "cell_type": "code",
   "execution_count": 30,
   "id": "458075cc",
   "metadata": {},
   "outputs": [
    {
     "name": "stdout",
     "output_type": "stream",
     "text": [
      "[78, 89] 1492955139456\n",
      "[78, 89, 78] 1492955139456\n",
      "[78, 89] 1492955156224\n"
     ]
    }
   ],
   "source": [
    "print(b,id(b))\n",
    "b.append(78)\n",
    "print(b,id(b))\n",
    "print(c,id(c))"
   ]
  },
  {
   "cell_type": "code",
   "execution_count": 32,
   "id": "10217c1d",
   "metadata": {},
   "outputs": [
    {
     "name": "stdout",
     "output_type": "stream",
     "text": [
      "[12, 89, 563, 12]\n",
      "0\n"
     ]
    },
    {
     "ename": "ValueError",
     "evalue": "-500 is not in list",
     "output_type": "error",
     "traceback": [
      "\u001b[1;31m-------------------------------------------------------------------\u001b[0m",
      "\u001b[1;31mValueError\u001b[0m                        Traceback (most recent call last)",
      "Cell \u001b[1;32mIn[32], line 4\u001b[0m\n\u001b[0;32m      2\u001b[0m \u001b[38;5;28mprint\u001b[39m(g)\n\u001b[0;32m      3\u001b[0m \u001b[38;5;28mprint\u001b[39m(g\u001b[38;5;241m.\u001b[39mindex(\u001b[38;5;241m12\u001b[39m))\n\u001b[1;32m----> 4\u001b[0m \u001b[38;5;28mprint\u001b[39m(\u001b[43mg\u001b[49m\u001b[38;5;241;43m.\u001b[39;49m\u001b[43mindex\u001b[49m\u001b[43m(\u001b[49m\u001b[38;5;241;43m-\u001b[39;49m\u001b[38;5;241;43m500\u001b[39;49m\u001b[43m)\u001b[49m)\n",
      "\u001b[1;31mValueError\u001b[0m: -500 is not in list"
     ]
    }
   ],
   "source": [
    "g = [12,89,563,12]\n",
    "print(g)\n",
    "print(g.index(12))\n",
    "print(g.index(-500))"
   ]
  },
  {
   "cell_type": "code",
   "execution_count": 33,
   "id": "7885cca2",
   "metadata": {},
   "outputs": [
    {
     "name": "stdout",
     "output_type": "stream",
     "text": [
      "[89, 'jk', 45, 78]\n",
      "[89, 'jk', 45]\n"
     ]
    }
   ],
   "source": [
    "a = [89,'jk',45,78]\n",
    "print(a)\n",
    "a.pop()\n",
    "print(a)"
   ]
  },
  {
   "cell_type": "code",
   "execution_count": 34,
   "id": "fa76b40f",
   "metadata": {},
   "outputs": [
    {
     "name": "stdout",
     "output_type": "stream",
     "text": [
      "[89, 'jk', 45]\n",
      "[89, 45]\n"
     ]
    }
   ],
   "source": [
    "print(a)\n",
    "a.pop(1)\n",
    "print(a)"
   ]
  },
  {
   "cell_type": "code",
   "execution_count": 35,
   "id": "19d68200",
   "metadata": {},
   "outputs": [
    {
     "name": "stdout",
     "output_type": "stream",
     "text": [
      "[89, 45]\n"
     ]
    },
    {
     "ename": "IndexError",
     "evalue": "pop index out of range",
     "output_type": "error",
     "traceback": [
      "\u001b[1;31m-------------------------------------------------------------------\u001b[0m",
      "\u001b[1;31mIndexError\u001b[0m                        Traceback (most recent call last)",
      "Cell \u001b[1;32mIn[35], line 2\u001b[0m\n\u001b[0;32m      1\u001b[0m \u001b[38;5;28mprint\u001b[39m(a)\n\u001b[1;32m----> 2\u001b[0m \u001b[43ma\u001b[49m\u001b[38;5;241;43m.\u001b[39;49m\u001b[43mpop\u001b[49m\u001b[43m(\u001b[49m\u001b[38;5;241;43m5\u001b[39;49m\u001b[43m)\u001b[49m\n\u001b[0;32m      3\u001b[0m \u001b[38;5;28mprint\u001b[39m(a)\n",
      "\u001b[1;31mIndexError\u001b[0m: pop index out of range"
     ]
    }
   ],
   "source": [
    "print(a)\n",
    "a.pop(5)\n",
    "print(a)"
   ]
  },
  {
   "cell_type": "code",
   "execution_count": 36,
   "id": "ea349e30",
   "metadata": {},
   "outputs": [
    {
     "name": "stdout",
     "output_type": "stream",
     "text": [
      "[45, 26, 533, 'Ganesh']\n",
      "[26, 533, 'Ganesh']\n"
     ]
    }
   ],
   "source": [
    "m = [45,26,533,'Ganesh']\n",
    "print(m)\n",
    "m.remove(45)\n",
    "print(m)"
   ]
  },
  {
   "cell_type": "code",
   "execution_count": 37,
   "id": "0c3a0698",
   "metadata": {},
   "outputs": [
    {
     "name": "stdout",
     "output_type": "stream",
     "text": [
      "[26, 533, 'Ganesh']\n"
     ]
    },
    {
     "ename": "ValueError",
     "evalue": "list.remove(x): x not in list",
     "output_type": "error",
     "traceback": [
      "\u001b[1;31m-------------------------------------------------------------------\u001b[0m",
      "\u001b[1;31mValueError\u001b[0m                        Traceback (most recent call last)",
      "Cell \u001b[1;32mIn[37], line 2\u001b[0m\n\u001b[0;32m      1\u001b[0m \u001b[38;5;28mprint\u001b[39m(m)\n\u001b[1;32m----> 2\u001b[0m \u001b[43mm\u001b[49m\u001b[38;5;241;43m.\u001b[39;49m\u001b[43mremove\u001b[49m\u001b[43m(\u001b[49m\u001b[38;5;241;43m78\u001b[39;49m\u001b[43m)\u001b[49m\n\u001b[0;32m      3\u001b[0m \u001b[38;5;28mprint\u001b[39m(m)\n",
      "\u001b[1;31mValueError\u001b[0m: list.remove(x): x not in list"
     ]
    }
   ],
   "source": [
    "print(m)\n",
    "m.remove(78)\n",
    "print(m)"
   ]
  },
  {
   "cell_type": "code",
   "execution_count": 38,
   "id": "0af83dbf",
   "metadata": {},
   "outputs": [
    {
     "name": "stdout",
     "output_type": "stream",
     "text": [
      "[1, 89, 23, 78, 45, 96, 45]\n",
      "[1, 23, 45, 45, 78, 89, 96]\n"
     ]
    }
   ],
   "source": [
    "v = [1,89,23,78,45,96,45]\n",
    "print(v)\n",
    "v.sort()\n",
    "print(v)"
   ]
  },
  {
   "cell_type": "code",
   "execution_count": 39,
   "id": "1e0baca5",
   "metadata": {},
   "outputs": [
    {
     "name": "stdout",
     "output_type": "stream",
     "text": [
      "[90, 23, 5, 89]\n",
      "[90, 89, 23, 5]\n"
     ]
    }
   ],
   "source": [
    "w = [90,23,5,89]\n",
    "print(w)\n",
    "w.sort(reverse=True)\n",
    "print(w)"
   ]
  },
  {
   "cell_type": "code",
   "execution_count": 40,
   "id": "ac94a864",
   "metadata": {},
   "outputs": [
    {
     "name": "stdout",
     "output_type": "stream",
     "text": [
      "[56, 7, 89, 45]\n",
      "[45, 89, 7, 56]\n"
     ]
    }
   ],
   "source": [
    "u = [56,7,89,45]\n",
    "print(u)\n",
    "u.reverse()\n",
    "print(u)"
   ]
  },
  {
   "cell_type": "code",
   "execution_count": 41,
   "id": "0586f139",
   "metadata": {},
   "outputs": [
    {
     "name": "stdout",
     "output_type": "stream",
     "text": [
      "[67, False, (4+7j)]\n",
      "[]\n"
     ]
    }
   ],
   "source": [
    "q = [67,False,4+7j]\n",
    "print(q)\n",
    "q.clear()\n",
    "print(q)"
   ]
  },
  {
   "cell_type": "code",
   "execution_count": 42,
   "id": "117dde6e",
   "metadata": {},
   "outputs": [
    {
     "name": "stdout",
     "output_type": "stream",
     "text": [
      "[89, 'kiran', 'suresh', 45.015]\n"
     ]
    },
    {
     "ename": "NameError",
     "evalue": "name 'z' is not defined",
     "output_type": "error",
     "traceback": [
      "\u001b[1;31m-------------------------------------------------------------------\u001b[0m",
      "\u001b[1;31mNameError\u001b[0m                         Traceback (most recent call last)",
      "Cell \u001b[1;32mIn[42], line 4\u001b[0m\n\u001b[0;32m      2\u001b[0m \u001b[38;5;28mprint\u001b[39m(z)\n\u001b[0;32m      3\u001b[0m \u001b[38;5;28;01mdel\u001b[39;00m z\n\u001b[1;32m----> 4\u001b[0m \u001b[38;5;28mprint\u001b[39m(\u001b[43mz\u001b[49m)\n",
      "\u001b[1;31mNameError\u001b[0m: name 'z' is not defined"
     ]
    }
   ],
   "source": [
    "z = [89,'kiran','suresh',45.015]\n",
    "print(z)\n",
    "del z\n",
    "print(z)"
   ]
  },
  {
   "cell_type": "code",
   "execution_count": 44,
   "id": "5bfdc650",
   "metadata": {},
   "outputs": [
    {
     "name": "stdout",
     "output_type": "stream",
     "text": [
      "1,56,78,5\n",
      "['1', '56', '78', '5'] <class 'list'>\n"
     ]
    }
   ],
   "source": [
    "n = input().split(',')\n",
    "print(n,type(n))"
   ]
  },
  {
   "cell_type": "code",
   "execution_count": 61,
   "id": "210b1779",
   "metadata": {},
   "outputs": [
    {
     "name": "stdout",
     "output_type": "stream",
     "text": [
      "[45, 89, 23, 56, True, None, (8+5j), 45, 0, 45.015]\n",
      "[45, 89, 23, 56, True, None, (8+5j), 45, 0, 45.015]\n",
      "(8+5j)\n",
      "45\n",
      "[56, True, None, (8+5j), 45, 0, 45.015]\n",
      "[None, (8+5j), 45, 0, 45.015]\n",
      "[45, 89, 23, 56, True, None]\n",
      "[45, 89, 23, 56, True, None, (8+5j)]\n",
      "[56, True, None, (8+5j), 45]\n",
      "[]\n",
      "[None, (8+5j), 45]\n",
      "[23, 56, True]\n",
      "[56, True, None, (8+5j), 45]\n"
     ]
    }
   ],
   "source": [
    "h = [45,89,23,56,True,None,8+5j,45,0,45.015]\n",
    "print(h)\n",
    "print(h[:])\n",
    "print(h[6])\n",
    "print(h[-3])\n",
    "print(h[3:])\n",
    "print(h[-5:])\n",
    "print(h[:6])\n",
    "print(h[:-3])\n",
    "print(h[3:8])\n",
    "print(h[4:-9])\n",
    "print(h[5:-2])\n",
    "print(h[2:-5])\n",
    "print(h[-7:-2])"
   ]
  },
  {
   "cell_type": "code",
   "execution_count": 67,
   "id": "b1651cb5",
   "metadata": {},
   "outputs": [
    {
     "name": "stdout",
     "output_type": "stream",
     "text": [
      "[45, 89, 23, 56, True, None, (8+5j), 45, 0, 45.015]\n",
      "[45, 89, 23, 56, True, None, (8+5j), 45, 0, 45.015]\n",
      "[True, None, (8+5j), 45, 0, 45.015]\n",
      "[45, 0, 45.015]\n",
      "[45, 89, 23, 56, True, None, (8+5j)]\n",
      "[45, 89, 23, 56, True]\n",
      "[45, 56, (8+5j), 45.015]\n",
      "[45.015, None, 89]\n",
      "[True, None, (8+5j), 45, 0]\n",
      "[45, 23, True]\n",
      "[45.015, 0, 45, (8+5j), None, True, 56, 23, 89, 45]\n"
     ]
    }
   ],
   "source": [
    "print(h)\n",
    "print(h[::])\n",
    "print(h[4::])\n",
    "print(h[-3::])\n",
    "print(h[:7:])\n",
    "print(h[:-5:])\n",
    "print(h[::3])\n",
    "print(h[::-4])\n",
    "print(h[4:9:])\n",
    "print(h[:5:2])\n",
    "print(h[::-1])"
   ]
  },
  {
   "cell_type": "markdown",
   "id": "8c23089c",
   "metadata": {},
   "source": [
    "## Tuple:\n",
    "    - It can be represented as \"()\"\n",
    "    - It can't changes a value\n",
    "    - Slicing can be done because of index\n",
    "    - It stores all data type values\n",
    "    - It stores data in order format\n",
    "    - It can be type casted as tuple()\n",
    "    - It allows duplicate values"
   ]
  },
  {
   "cell_type": "code",
   "execution_count": 68,
   "id": "af82c60b",
   "metadata": {},
   "outputs": [
    {
     "name": "stdout",
     "output_type": "stream",
     "text": [
      "(45, 89.001, False, 'Jyothi', '78', 45, (45+3j), None) <class 'tuple'>\n"
     ]
    }
   ],
   "source": [
    "z = (45,89.001,False,'Jyothi','78',45,45+3j,None)\n",
    "print(z,type(z))"
   ]
  },
  {
   "cell_type": "code",
   "execution_count": 69,
   "id": "3b067901",
   "metadata": {},
   "outputs": [
    {
     "name": "stdout",
     "output_type": "stream",
     "text": [
      "45 <class 'int'>\n",
      "89.001 <class 'float'>\n",
      "False <class 'bool'>\n",
      "Jyothi <class 'str'>\n",
      "78 <class 'str'>\n",
      "45 <class 'int'>\n",
      "(45+3j) <class 'complex'>\n",
      "None <class 'NoneType'>\n"
     ]
    }
   ],
   "source": [
    "for i in range(len(z)):\n",
    "    print(z[i],type(z[i]))"
   ]
  },
  {
   "cell_type": "code",
   "execution_count": 70,
   "id": "39a6371b",
   "metadata": {},
   "outputs": [
    {
     "name": "stdout",
     "output_type": "stream",
     "text": [
      "45 <class 'int'>\n",
      "89.001 <class 'float'>\n",
      "False <class 'bool'>\n",
      "Jyothi <class 'str'>\n",
      "78 <class 'str'>\n",
      "45 <class 'int'>\n",
      "(45+3j) <class 'complex'>\n",
      "None <class 'NoneType'>\n"
     ]
    }
   ],
   "source": [
    "for i in z:\n",
    "    print(i,type(i))"
   ]
  },
  {
   "cell_type": "code",
   "execution_count": 71,
   "id": "6e6f2b44",
   "metadata": {},
   "outputs": [
    {
     "name": "stdout",
     "output_type": "stream",
     "text": [
      "['__add__', '__class__', '__class_getitem__', '__contains__', '__delattr__', '__dir__', '__doc__', '__eq__', '__format__', '__ge__', '__getattribute__', '__getitem__', '__getnewargs__', '__gt__', '__hash__', '__init__', '__init_subclass__', '__iter__', '__le__', '__len__', '__lt__', '__mul__', '__ne__', '__new__', '__reduce__', '__reduce_ex__', '__repr__', '__rmul__', '__setattr__', '__sizeof__', '__str__', '__subclasshook__', 'count', 'index']\n"
     ]
    }
   ],
   "source": [
    "print(dir(tuple))"
   ]
  },
  {
   "cell_type": "code",
   "execution_count": 72,
   "id": "d026290e",
   "metadata": {},
   "outputs": [
    {
     "name": "stdout",
     "output_type": "stream",
     "text": [
      "(45, 78, 23, 5, 6, 9, 6)\n",
      "2\n",
      "0\n",
      "1\n"
     ]
    },
    {
     "ename": "ValueError",
     "evalue": "tuple.index(x): x not in tuple",
     "output_type": "error",
     "traceback": [
      "\u001b[1;31m-------------------------------------------------------------------\u001b[0m",
      "\u001b[1;31mValueError\u001b[0m                        Traceback (most recent call last)",
      "Cell \u001b[1;32mIn[72], line 6\u001b[0m\n\u001b[0;32m      4\u001b[0m \u001b[38;5;28mprint\u001b[39m(g\u001b[38;5;241m.\u001b[39mcount(\u001b[38;5;241m-\u001b[39m\u001b[38;5;241m4\u001b[39m))\n\u001b[0;32m      5\u001b[0m \u001b[38;5;28mprint\u001b[39m(g\u001b[38;5;241m.\u001b[39mindex(\u001b[38;5;241m78\u001b[39m))\n\u001b[1;32m----> 6\u001b[0m \u001b[38;5;28mprint\u001b[39m(\u001b[43mg\u001b[49m\u001b[38;5;241;43m.\u001b[39;49m\u001b[43mindex\u001b[49m\u001b[43m(\u001b[49m\u001b[38;5;241;43m-\u001b[39;49m\u001b[38;5;241;43m56\u001b[39;49m\u001b[43m)\u001b[49m)\n",
      "\u001b[1;31mValueError\u001b[0m: tuple.index(x): x not in tuple"
     ]
    }
   ],
   "source": [
    "g = (45,78,23,5,6,9,6)\n",
    "print(g)\n",
    "print(g.count(6))\n",
    "print(g.count(-4))\n",
    "print(g.index(78))\n",
    "print(g.index(-56))"
   ]
  },
  {
   "cell_type": "markdown",
   "id": "6ed1073e",
   "metadata": {},
   "source": [
    "## Set:\n",
    "    - It can be represented as \"{}\" and it consists of single value in it\n",
    "    - It doesnt allows duplicate values\n",
    "    - It stores all data type values\n",
    "    - It stores data in ordered format when we check it in kernel and unorder in print\n",
    "    - It can changes a value\n",
    "    - It can be typecasted as set()\n",
    "    - Slicing can't be done because of no index"
   ]
  },
  {
   "cell_type": "code",
   "execution_count": 73,
   "id": "5092a203",
   "metadata": {},
   "outputs": [
    {
     "name": "stdout",
     "output_type": "stream",
     "text": [
      "{} <class 'dict'>\n",
      "{45} <class 'set'>\n"
     ]
    }
   ],
   "source": [
    "w = {}\n",
    "g = {45}\n",
    "print(w,type(w))\n",
    "print(g,type(g))"
   ]
  },
  {
   "cell_type": "code",
   "execution_count": 75,
   "id": "ae36044d",
   "metadata": {},
   "outputs": [
    {
     "name": "stdout",
     "output_type": "stream",
     "text": [
      "{0.25, True, 34, '89', None, (4+9j)} <class 'set'>\n"
     ]
    },
    {
     "data": {
      "text/plain": [
       "{(4+9j), 0.25, 34, '89', None, True}"
      ]
     },
     "execution_count": 75,
     "metadata": {},
     "output_type": "execute_result"
    }
   ],
   "source": [
    "k = {34,0.25,True,4+9j,None,34,'89'}\n",
    "print(k,type(k))\n",
    "k"
   ]
  },
  {
   "cell_type": "code",
   "execution_count": 76,
   "id": "e0392a99",
   "metadata": {},
   "outputs": [
    {
     "name": "stdout",
     "output_type": "stream",
     "text": [
      "6\n"
     ]
    }
   ],
   "source": [
    "print(len(k))"
   ]
  },
  {
   "cell_type": "code",
   "execution_count": 77,
   "id": "6cfafaef",
   "metadata": {},
   "outputs": [
    {
     "ename": "TypeError",
     "evalue": "'set' object is not subscriptable",
     "output_type": "error",
     "traceback": [
      "\u001b[1;31m-------------------------------------------------------------------\u001b[0m",
      "\u001b[1;31mTypeError\u001b[0m                         Traceback (most recent call last)",
      "Cell \u001b[1;32mIn[77], line 1\u001b[0m\n\u001b[1;32m----> 1\u001b[0m \u001b[38;5;28mprint\u001b[39m(\u001b[43mk\u001b[49m\u001b[43m[\u001b[49m\u001b[38;5;241;43m3\u001b[39;49m\u001b[43m]\u001b[49m)\n",
      "\u001b[1;31mTypeError\u001b[0m: 'set' object is not subscriptable"
     ]
    }
   ],
   "source": [
    "print(k[3])"
   ]
  },
  {
   "cell_type": "code",
   "execution_count": 78,
   "id": "8cd8ae8a",
   "metadata": {},
   "outputs": [
    {
     "name": "stdout",
     "output_type": "stream",
     "text": [
      "0.25 <class 'float'>\n",
      "True <class 'bool'>\n",
      "34 <class 'int'>\n",
      "89 <class 'str'>\n",
      "None <class 'NoneType'>\n",
      "(4+9j) <class 'complex'>\n"
     ]
    }
   ],
   "source": [
    "for i in k:\n",
    "    print(i,type(i))"
   ]
  },
  {
   "cell_type": "code",
   "execution_count": 79,
   "id": "ea90560c",
   "metadata": {},
   "outputs": [
    {
     "name": "stdout",
     "output_type": "stream",
     "text": [
      "['__and__', '__class__', '__class_getitem__', '__contains__', '__delattr__', '__dir__', '__doc__', '__eq__', '__format__', '__ge__', '__getattribute__', '__gt__', '__hash__', '__iand__', '__init__', '__init_subclass__', '__ior__', '__isub__', '__iter__', '__ixor__', '__le__', '__len__', '__lt__', '__ne__', '__new__', '__or__', '__rand__', '__reduce__', '__reduce_ex__', '__repr__', '__ror__', '__rsub__', '__rxor__', '__setattr__', '__sizeof__', '__str__', '__sub__', '__subclasshook__', '__xor__', 'add', 'clear', 'copy', 'difference', 'difference_update', 'discard', 'intersection', 'intersection_update', 'isdisjoint', 'issubset', 'issuperset', 'pop', 'remove', 'symmetric_difference', 'symmetric_difference_update', 'union', 'update']\n"
     ]
    }
   ],
   "source": [
    "print(dir(set))"
   ]
  },
  {
   "cell_type": "code",
   "execution_count": 80,
   "id": "58593221",
   "metadata": {},
   "outputs": [
    {
     "name": "stdout",
     "output_type": "stream",
     "text": [
      "{98, 7, 56, 45, 78}\n",
      "{100, 7, 568, 105, 56}\n"
     ]
    }
   ],
   "source": [
    "a = {56,78,98,45,7}\n",
    "b = {100,568,7,56,105}\n",
    "print(a)\n",
    "print(b)"
   ]
  },
  {
   "cell_type": "code",
   "execution_count": 82,
   "id": "a12dc261",
   "metadata": {},
   "outputs": [
    {
     "name": "stdout",
     "output_type": "stream",
     "text": [
      "{98, 7, 56, 45, 78}\n",
      "{100, 7, 568, 105, 56}\n",
      "{98, 100, 7, 105, 568, 45, 78, 56}\n",
      "{56, 7}\n"
     ]
    }
   ],
   "source": [
    "print(a)\n",
    "print(b)\n",
    "print(a.union(b))\n",
    "print(a.intersection(b))"
   ]
  },
  {
   "cell_type": "code",
   "execution_count": 84,
   "id": "d2350a3a",
   "metadata": {},
   "outputs": [
    {
     "name": "stdout",
     "output_type": "stream",
     "text": [
      "{98, 7, 56, 45, 78}\n",
      "{100, 7, 568, 105, 56}\n",
      "{98, 45, 78}\n",
      "{568, 105, 100}\n",
      "{98, 100, 568, 105, 45, 78}\n",
      "{98, 100, 105, 568, 45, 78}\n",
      "{98, 7, 56, 45, 78}\n",
      "{100, 7, 568, 105, 56}\n"
     ]
    }
   ],
   "source": [
    "print(a)\n",
    "print(b)\n",
    "print(a.difference(b))\n",
    "print(b.difference(a))\n",
    "print(a.symmetric_difference(b))\n",
    "print(b.symmetric_difference(a))\n",
    "print(a)\n",
    "print(b)"
   ]
  },
  {
   "cell_type": "code",
   "execution_count": 85,
   "id": "510b7d2c",
   "metadata": {},
   "outputs": [
    {
     "name": "stdout",
     "output_type": "stream",
     "text": [
      "{98, 7, 56, 45, 78}\n",
      "{100, 7, 568, 105, 56}\n",
      "{98, 7, 56, 45, 78}\n",
      "{56, 7}\n"
     ]
    }
   ],
   "source": [
    "print(a)\n",
    "print(b)\n",
    "b.intersection_update(a)\n",
    "print(a)\n",
    "print(b)"
   ]
  },
  {
   "cell_type": "code",
   "execution_count": 86,
   "id": "d4733902",
   "metadata": {},
   "outputs": [
    {
     "name": "stdout",
     "output_type": "stream",
     "text": [
      "{3, 4, 26, 8, 56}\n",
      "{3, 150, 8, 89, 45}\n",
      "{4, 26, 56}\n",
      "{3, 150, 8, 89, 45}\n"
     ]
    }
   ],
   "source": [
    "w = {4,56,8,26,3}\n",
    "q = {150,89,8,3,45}\n",
    "print(w)\n",
    "print(q)\n",
    "w.difference_update(q)\n",
    "print(w)\n",
    "print(q)"
   ]
  },
  {
   "cell_type": "code",
   "execution_count": 87,
   "id": "2d412d00",
   "metadata": {},
   "outputs": [
    {
     "name": "stdout",
     "output_type": "stream",
     "text": [
      "{4, 8, 59, 12, 45, 63}\n",
      "{28, 20, 12, 45, 78}\n",
      "{4, 8, 78, 20, 59, 28, 63}\n",
      "{28, 20, 12, 45, 78}\n"
     ]
    }
   ],
   "source": [
    "z = {12,8,59,45,63,4}\n",
    "k = {12,45,20,28,78}\n",
    "print(z)\n",
    "print(k)\n",
    "z.symmetric_difference_update(k)\n",
    "print(z)\n",
    "print(k)"
   ]
  },
  {
   "cell_type": "code",
   "execution_count": 88,
   "id": "6607de74",
   "metadata": {},
   "outputs": [
    {
     "name": "stdout",
     "output_type": "stream",
     "text": [
      "{89, 45}\n"
     ]
    },
    {
     "ename": "TypeError",
     "evalue": "'int' object is not iterable",
     "output_type": "error",
     "traceback": [
      "\u001b[1;31m-------------------------------------------------------------------\u001b[0m",
      "\u001b[1;31mTypeError\u001b[0m                         Traceback (most recent call last)",
      "Cell \u001b[1;32mIn[88], line 3\u001b[0m\n\u001b[0;32m      1\u001b[0m m \u001b[38;5;241m=\u001b[39m {\u001b[38;5;241m45\u001b[39m,\u001b[38;5;241m89\u001b[39m}\n\u001b[0;32m      2\u001b[0m \u001b[38;5;28mprint\u001b[39m(m)\n\u001b[1;32m----> 3\u001b[0m \u001b[43mm\u001b[49m\u001b[38;5;241;43m.\u001b[39;49m\u001b[43mupdate\u001b[49m\u001b[43m(\u001b[49m\u001b[38;5;241;43m48\u001b[39;49m\u001b[43m)\u001b[49m\n\u001b[0;32m      4\u001b[0m \u001b[38;5;28mprint\u001b[39m(m)\n",
      "\u001b[1;31mTypeError\u001b[0m: 'int' object is not iterable"
     ]
    }
   ],
   "source": [
    "m = {45,89}\n",
    "print(m)\n",
    "m.update(48)\n",
    "print(m)"
   ]
  },
  {
   "cell_type": "code",
   "execution_count": 89,
   "id": "a9f163f4",
   "metadata": {},
   "outputs": [
    {
     "name": "stdout",
     "output_type": "stream",
     "text": [
      "{89, 45}\n",
      "{1, 5, 45, 48, 89}\n"
     ]
    }
   ],
   "source": [
    "m = {45,89}\n",
    "print(m)\n",
    "m.update([48,1,5])\n",
    "print(m)"
   ]
  },
  {
   "cell_type": "code",
   "execution_count": 90,
   "id": "b6f18b5a",
   "metadata": {},
   "outputs": [
    {
     "name": "stdout",
     "output_type": "stream",
     "text": [
      "{1, 5, 45, 48, 89}\n"
     ]
    },
    {
     "ename": "TypeError",
     "evalue": "set.add() takes exactly one argument (2 given)",
     "output_type": "error",
     "traceback": [
      "\u001b[1;31m-------------------------------------------------------------------\u001b[0m",
      "\u001b[1;31mTypeError\u001b[0m                         Traceback (most recent call last)",
      "Cell \u001b[1;32mIn[90], line 2\u001b[0m\n\u001b[0;32m      1\u001b[0m \u001b[38;5;28mprint\u001b[39m(m)\n\u001b[1;32m----> 2\u001b[0m \u001b[43mm\u001b[49m\u001b[38;5;241;43m.\u001b[39;49m\u001b[43madd\u001b[49m\u001b[43m(\u001b[49m\u001b[38;5;241;43m1\u001b[39;49m\u001b[43m,\u001b[49m\u001b[38;5;241;43m89\u001b[39;49m\u001b[43m)\u001b[49m\n\u001b[0;32m      3\u001b[0m \u001b[38;5;28mprint\u001b[39m(m)\n",
      "\u001b[1;31mTypeError\u001b[0m: set.add() takes exactly one argument (2 given)"
     ]
    }
   ],
   "source": [
    "print(m)\n",
    "m.add(1,89)\n",
    "print(m)"
   ]
  },
  {
   "cell_type": "code",
   "execution_count": 91,
   "id": "a78f7777",
   "metadata": {},
   "outputs": [
    {
     "name": "stdout",
     "output_type": "stream",
     "text": [
      "{1, 5, 45, 48, 89}\n"
     ]
    },
    {
     "ename": "TypeError",
     "evalue": "unhashable type: 'list'",
     "output_type": "error",
     "traceback": [
      "\u001b[1;31m-------------------------------------------------------------------\u001b[0m",
      "\u001b[1;31mTypeError\u001b[0m                         Traceback (most recent call last)",
      "Cell \u001b[1;32mIn[91], line 2\u001b[0m\n\u001b[0;32m      1\u001b[0m \u001b[38;5;28mprint\u001b[39m(m)\n\u001b[1;32m----> 2\u001b[0m \u001b[43mm\u001b[49m\u001b[38;5;241;43m.\u001b[39;49m\u001b[43madd\u001b[49m\u001b[43m(\u001b[49m\u001b[43m[\u001b[49m\u001b[38;5;241;43m1\u001b[39;49m\u001b[43m,\u001b[49m\u001b[38;5;241;43m89\u001b[39;49m\u001b[43m,\u001b[49m\u001b[38;5;241;43m5\u001b[39;49m\u001b[43m,\u001b[49m\u001b[38;5;241;43m40\u001b[39;49m\u001b[43m]\u001b[49m\u001b[43m)\u001b[49m\n\u001b[0;32m      3\u001b[0m \u001b[38;5;28mprint\u001b[39m(m)\n",
      "\u001b[1;31mTypeError\u001b[0m: unhashable type: 'list'"
     ]
    }
   ],
   "source": [
    "print(m)\n",
    "m.add([1,89,5,40])\n",
    "print(m)"
   ]
  },
  {
   "cell_type": "code",
   "execution_count": 92,
   "id": "2ad814ea",
   "metadata": {},
   "outputs": [
    {
     "name": "stdout",
     "output_type": "stream",
     "text": [
      "{1, 5, 45, 48, 89}\n",
      "{1, 5, 45, 48, (1, 89, 5, 40), 89}\n"
     ]
    }
   ],
   "source": [
    "print(m)\n",
    "m.add((1,89,5,40))\n",
    "print(m)"
   ]
  },
  {
   "cell_type": "code",
   "execution_count": 93,
   "id": "145496e6",
   "metadata": {},
   "outputs": [
    {
     "name": "stdout",
     "output_type": "stream",
     "text": [
      "{1, 5, 45, 48, (1, 89, 5, 40), 89}\n"
     ]
    },
    {
     "ename": "TypeError",
     "evalue": "unhashable type: 'set'",
     "output_type": "error",
     "traceback": [
      "\u001b[1;31m-------------------------------------------------------------------\u001b[0m",
      "\u001b[1;31mTypeError\u001b[0m                         Traceback (most recent call last)",
      "Cell \u001b[1;32mIn[93], line 2\u001b[0m\n\u001b[0;32m      1\u001b[0m \u001b[38;5;28mprint\u001b[39m(m)\n\u001b[1;32m----> 2\u001b[0m \u001b[43mm\u001b[49m\u001b[38;5;241;43m.\u001b[39;49m\u001b[43madd\u001b[49m\u001b[43m(\u001b[49m\u001b[43m{\u001b[49m\u001b[38;5;241;43m15\u001b[39;49m\u001b[43m,\u001b[49m\u001b[38;5;241;43m890\u001b[39;49m\u001b[43m,\u001b[49m\u001b[38;5;241;43m52\u001b[39;49m\u001b[43m,\u001b[49m\u001b[38;5;241;43m401\u001b[39;49m\u001b[43m}\u001b[49m\u001b[43m)\u001b[49m\n\u001b[0;32m      3\u001b[0m \u001b[38;5;28mprint\u001b[39m(m)\n",
      "\u001b[1;31mTypeError\u001b[0m: unhashable type: 'set'"
     ]
    }
   ],
   "source": [
    "print(m)\n",
    "m.add({15,890,52,401})\n",
    "print(m)"
   ]
  },
  {
   "cell_type": "code",
   "execution_count": 94,
   "id": "7c09b1b1",
   "metadata": {},
   "outputs": [
    {
     "name": "stdout",
     "output_type": "stream",
     "text": [
      "{1, 5, 45, 48, (1, 89, 5, 40), 89} 1492956079488\n",
      "{48, 1, (1, 89, 5, 40), 5, 89, 45} 1492956081504\n"
     ]
    }
   ],
   "source": [
    "a = m.copy()\n",
    "print(m,id(m))\n",
    "print(a,id(a))"
   ]
  },
  {
   "cell_type": "code",
   "execution_count": 95,
   "id": "01adcae6",
   "metadata": {},
   "outputs": [
    {
     "name": "stdout",
     "output_type": "stream",
     "text": [
      "{1, 5, 45, 48, (1, 89, 5, 40), 89}\n",
      "set()\n"
     ]
    }
   ],
   "source": [
    "print(m)\n",
    "m.clear()\n",
    "print(m)"
   ]
  },
  {
   "cell_type": "code",
   "execution_count": 96,
   "id": "6a4ffa5b",
   "metadata": {},
   "outputs": [
    {
     "name": "stdout",
     "output_type": "stream",
     "text": [
      "{48, 1, (1, 89, 5, 40), 5, 89, 45}\n",
      "{48, (1, 89, 5, 40), 5, 89, 45}\n"
     ]
    }
   ],
   "source": [
    "print(a)\n",
    "a.discard(1)\n",
    "print(a)"
   ]
  },
  {
   "cell_type": "code",
   "execution_count": 98,
   "id": "e4a9359b",
   "metadata": {},
   "outputs": [
    {
     "name": "stdout",
     "output_type": "stream",
     "text": [
      "{48, (1, 89, 5, 40), 5, 89}\n",
      "{48, (1, 89, 5, 40), 89}\n"
     ]
    }
   ],
   "source": [
    "print(a)\n",
    "a.discard(45)\n",
    "a.discard(5)\n",
    "print(a)"
   ]
  },
  {
   "cell_type": "code",
   "execution_count": 99,
   "id": "1f0df680",
   "metadata": {},
   "outputs": [
    {
     "name": "stdout",
     "output_type": "stream",
     "text": [
      "{2, 3, 45, 78}\n",
      "{3, 45, 78}\n"
     ]
    }
   ],
   "source": [
    "c = {3,45,2,78}\n",
    "print(c)\n",
    "c.pop()\n",
    "print(c)"
   ]
  },
  {
   "cell_type": "code",
   "execution_count": 100,
   "id": "07973aeb",
   "metadata": {},
   "outputs": [
    {
     "name": "stdout",
     "output_type": "stream",
     "text": [
      "{3, 45, 78}\n",
      "{3, 78}\n"
     ]
    }
   ],
   "source": [
    "print(c)\n",
    "c.remove(45)\n",
    "print(c)"
   ]
  },
  {
   "cell_type": "code",
   "execution_count": 101,
   "id": "ae574153",
   "metadata": {},
   "outputs": [
    {
     "name": "stdout",
     "output_type": "stream",
     "text": [
      "{3, 78}\n"
     ]
    },
    {
     "ename": "KeyError",
     "evalue": "-45",
     "output_type": "error",
     "traceback": [
      "\u001b[1;31m-------------------------------------------------------------------\u001b[0m",
      "\u001b[1;31mKeyError\u001b[0m                          Traceback (most recent call last)",
      "Cell \u001b[1;32mIn[101], line 2\u001b[0m\n\u001b[0;32m      1\u001b[0m \u001b[38;5;28mprint\u001b[39m(c)\n\u001b[1;32m----> 2\u001b[0m \u001b[43mc\u001b[49m\u001b[38;5;241;43m.\u001b[39;49m\u001b[43mremove\u001b[49m\u001b[43m(\u001b[49m\u001b[38;5;241;43m-\u001b[39;49m\u001b[38;5;241;43m45\u001b[39;49m\u001b[43m)\u001b[49m\n\u001b[0;32m      3\u001b[0m \u001b[38;5;28mprint\u001b[39m(c)\n",
      "\u001b[1;31mKeyError\u001b[0m: -45"
     ]
    }
   ],
   "source": [
    "print(c)\n",
    "c.remove(-45)\n",
    "print(c)"
   ]
  },
  {
   "cell_type": "markdown",
   "id": "623f1106",
   "metadata": {},
   "source": [
    "## Dictionary:\n",
    "    - It can be represented as \"{}\" with an empty values in it\n",
    "    - It stores data in key and value pairs format\n",
    "    - Keys shouldn't be duplicate and values we can duplicate\n",
    "    - Slicing can be performed for values\n",
    "    - It can be typecasted as dict()\n",
    "    "
   ]
  },
  {
   "cell_type": "code",
   "execution_count": 104,
   "id": "d84d1730",
   "metadata": {},
   "outputs": [
    {
     "name": "stdout",
     "output_type": "stream",
     "text": [
      "{'sname': 'Naresh', 'sage': 45} <class 'dict'>\n"
     ]
    }
   ],
   "source": [
    "y = {'sname':\"Ramesh\",\"sage\":45,\"sname\":'Naresh'}\n",
    "print(y,type(y))"
   ]
  },
  {
   "cell_type": "code",
   "execution_count": 105,
   "id": "f9d60ee9",
   "metadata": {},
   "outputs": [
    {
     "name": "stdout",
     "output_type": "stream",
     "text": [
      "{'sname': 'Ramesh', 'sage': 45, 'friendname': 'Naresh'} <class 'dict'>\n"
     ]
    }
   ],
   "source": [
    "y = {'sname':\"Ramesh\",\"sage\":45,\"friendname\":'Naresh'}\n",
    "print(y,type(y))"
   ]
  },
  {
   "cell_type": "code",
   "execution_count": 106,
   "id": "e4c30579",
   "metadata": {},
   "outputs": [
    {
     "ename": "KeyError",
     "evalue": "0",
     "output_type": "error",
     "traceback": [
      "\u001b[1;31m-------------------------------------------------------------------\u001b[0m",
      "\u001b[1;31mKeyError\u001b[0m                          Traceback (most recent call last)",
      "Cell \u001b[1;32mIn[106], line 2\u001b[0m\n\u001b[0;32m      1\u001b[0m \u001b[38;5;28;01mfor\u001b[39;00m i \u001b[38;5;129;01min\u001b[39;00m \u001b[38;5;28mrange\u001b[39m(\u001b[38;5;28mlen\u001b[39m(y)):\n\u001b[1;32m----> 2\u001b[0m     \u001b[38;5;28mprint\u001b[39m(\u001b[43my\u001b[49m\u001b[43m[\u001b[49m\u001b[43mi\u001b[49m\u001b[43m]\u001b[49m)\n",
      "\u001b[1;31mKeyError\u001b[0m: 0"
     ]
    }
   ],
   "source": [
    "for i in range(len(y)):\n",
    "    print(y[i])"
   ]
  },
  {
   "cell_type": "code",
   "execution_count": 108,
   "id": "4f557070",
   "metadata": {},
   "outputs": [
    {
     "name": "stdout",
     "output_type": "stream",
     "text": [
      "sname Ramesh\n",
      "sage 45\n",
      "friendname Naresh\n"
     ]
    }
   ],
   "source": [
    "for i in y:\n",
    "    print(i,y[i])"
   ]
  },
  {
   "cell_type": "code",
   "execution_count": 109,
   "id": "dbf8c67f",
   "metadata": {},
   "outputs": [
    {
     "name": "stdout",
     "output_type": "stream",
     "text": [
      "['__class__', '__class_getitem__', '__contains__', '__delattr__', '__delitem__', '__dir__', '__doc__', '__eq__', '__format__', '__ge__', '__getattribute__', '__getitem__', '__gt__', '__hash__', '__init__', '__init_subclass__', '__ior__', '__iter__', '__le__', '__len__', '__lt__', '__ne__', '__new__', '__or__', '__reduce__', '__reduce_ex__', '__repr__', '__reversed__', '__ror__', '__setattr__', '__setitem__', '__sizeof__', '__str__', '__subclasshook__', 'clear', 'copy', 'fromkeys', 'get', 'items', 'keys', 'pop', 'popitem', 'setdefault', 'update', 'values']\n"
     ]
    }
   ],
   "source": [
    "print(dir(dict))"
   ]
  },
  {
   "cell_type": "code",
   "execution_count": 110,
   "id": "584469e8",
   "metadata": {},
   "outputs": [
    {
     "name": "stdout",
     "output_type": "stream",
     "text": [
      "{'ename': 'Bharathi', 'eage': 29, 'esal': 25000}\n"
     ]
    }
   ],
   "source": [
    "e = {'ename':\"Bharathi\",'eage':29,'esal':25000}\n",
    "print(e)"
   ]
  },
  {
   "cell_type": "code",
   "execution_count": 111,
   "id": "2ebbeae4",
   "metadata": {},
   "outputs": [
    {
     "name": "stdout",
     "output_type": "stream",
     "text": [
      "{'ename': 'Bharathi', 'eage': 29, 'esal': 25000}\n",
      "dict_keys(['ename', 'eage', 'esal'])\n",
      "dict_values(['Bharathi', 29, 25000])\n",
      "dict_items([('ename', 'Bharathi'), ('eage', 29), ('esal', 25000)])\n"
     ]
    }
   ],
   "source": [
    "print(e)\n",
    "print(e.keys())\n",
    "print(e.values())\n",
    "print(e.items())"
   ]
  },
  {
   "cell_type": "code",
   "execution_count": 112,
   "id": "2fae80e4",
   "metadata": {},
   "outputs": [
    {
     "name": "stdout",
     "output_type": "stream",
     "text": [
      "Bharathi\n",
      "Bharathi\n"
     ]
    }
   ],
   "source": [
    "print(e.get('ename'))\n",
    "print(e['ename'])"
   ]
  },
  {
   "cell_type": "code",
   "execution_count": 114,
   "id": "32b67e7a",
   "metadata": {},
   "outputs": [
    {
     "name": "stdout",
     "output_type": "stream",
     "text": [
      "{'addr': None}\n"
     ]
    }
   ],
   "source": [
    "v = {}\n",
    "v.setdefault('addr')\n",
    "print(v)"
   ]
  },
  {
   "cell_type": "code",
   "execution_count": 117,
   "id": "ff9e54a3",
   "metadata": {},
   "outputs": [
    {
     "name": "stdout",
     "output_type": "stream",
     "text": [
      "{'addr': None}\n",
      "{'addr': None, 'sage': 45}\n"
     ]
    }
   ],
   "source": [
    "print(v)\n",
    "v.setdefault('sage',45)\n",
    "print(v)"
   ]
  },
  {
   "cell_type": "code",
   "execution_count": 118,
   "id": "6c308a35",
   "metadata": {},
   "outputs": [
    {
     "name": "stdout",
     "output_type": "stream",
     "text": [
      "{'addr': None, 'sage': 45}\n",
      "{'addr': 'TPT', 'sage': 45}\n"
     ]
    }
   ],
   "source": [
    "print(v)\n",
    "v.update({'addr':'TPT'})\n",
    "print(v)"
   ]
  },
  {
   "cell_type": "code",
   "execution_count": 119,
   "id": "b3087fff",
   "metadata": {},
   "outputs": [
    {
     "name": "stdout",
     "output_type": "stream",
     "text": [
      "{'addr': 'TPT', 'sage': 45}\n",
      "{'addr': 'KPM', 'sage': 45}\n"
     ]
    }
   ],
   "source": [
    "print(v)\n",
    "v['addr'] = 'KPM'\n",
    "print(v)"
   ]
  },
  {
   "cell_type": "code",
   "execution_count": 120,
   "id": "e48fd1dd",
   "metadata": {},
   "outputs": [
    {
     "name": "stdout",
     "output_type": "stream",
     "text": [
      "{'ename': 'Bharathi', 'eage': 29, 'esal': 25000}\n"
     ]
    },
    {
     "ename": "TypeError",
     "evalue": "pop expected at least 1 argument, got 0",
     "output_type": "error",
     "traceback": [
      "\u001b[1;31m-------------------------------------------------------------------\u001b[0m",
      "\u001b[1;31mTypeError\u001b[0m                         Traceback (most recent call last)",
      "Cell \u001b[1;32mIn[120], line 2\u001b[0m\n\u001b[0;32m      1\u001b[0m \u001b[38;5;28mprint\u001b[39m(e)\n\u001b[1;32m----> 2\u001b[0m \u001b[43me\u001b[49m\u001b[38;5;241;43m.\u001b[39;49m\u001b[43mpop\u001b[49m\u001b[43m(\u001b[49m\u001b[43m)\u001b[49m\n\u001b[0;32m      3\u001b[0m \u001b[38;5;28mprint\u001b[39m(e)\n",
      "\u001b[1;31mTypeError\u001b[0m: pop expected at least 1 argument, got 0"
     ]
    }
   ],
   "source": [
    "print(e)\n",
    "e.pop()\n",
    "print(e)"
   ]
  },
  {
   "cell_type": "code",
   "execution_count": 121,
   "id": "2f5ed98a",
   "metadata": {},
   "outputs": [
    {
     "name": "stdout",
     "output_type": "stream",
     "text": [
      "{'ename': 'Bharathi', 'eage': 29, 'esal': 25000}\n",
      "{'ename': 'Bharathi', 'esal': 25000}\n"
     ]
    }
   ],
   "source": [
    "print(e)\n",
    "e.pop('eage')\n",
    "print(e)"
   ]
  },
  {
   "cell_type": "code",
   "execution_count": 122,
   "id": "f205c03b",
   "metadata": {},
   "outputs": [
    {
     "name": "stdout",
     "output_type": "stream",
     "text": [
      "{'ename': 'Bharathi', 'esal': 25000}\n",
      "{'ename': 'Bharathi'}\n"
     ]
    }
   ],
   "source": [
    "print(e)\n",
    "e.popitem()\n",
    "print(e)"
   ]
  },
  {
   "cell_type": "code",
   "execution_count": 123,
   "id": "4e386211",
   "metadata": {},
   "outputs": [
    {
     "name": "stdout",
     "output_type": "stream",
     "text": [
      "{'sname': 'tilak', 'sage': 27, 'year': 4}\n"
     ]
    }
   ],
   "source": [
    "v = {'sname':'tilak','sage':27,'year':4}\n",
    "print(v)"
   ]
  },
  {
   "cell_type": "code",
   "execution_count": 124,
   "id": "858ebf48",
   "metadata": {},
   "outputs": [
    {
     "name": "stdout",
     "output_type": "stream",
     "text": [
      "{'sname': 'tilak', 'sage': 27, 'year': 4}\n"
     ]
    },
    {
     "ename": "TypeError",
     "evalue": "dict.popitem() takes no arguments (1 given)",
     "output_type": "error",
     "traceback": [
      "\u001b[1;31m-------------------------------------------------------------------\u001b[0m",
      "\u001b[1;31mTypeError\u001b[0m                         Traceback (most recent call last)",
      "Cell \u001b[1;32mIn[124], line 2\u001b[0m\n\u001b[0;32m      1\u001b[0m \u001b[38;5;28mprint\u001b[39m(v)\n\u001b[1;32m----> 2\u001b[0m \u001b[43mv\u001b[49m\u001b[38;5;241;43m.\u001b[39;49m\u001b[43mpopitem\u001b[49m\u001b[43m(\u001b[49m\u001b[38;5;124;43m'\u001b[39;49m\u001b[38;5;124;43msage\u001b[39;49m\u001b[38;5;124;43m'\u001b[39;49m\u001b[43m)\u001b[49m\n\u001b[0;32m      3\u001b[0m \u001b[38;5;28mprint\u001b[39m(v)\n",
      "\u001b[1;31mTypeError\u001b[0m: dict.popitem() takes no arguments (1 given)"
     ]
    }
   ],
   "source": [
    "print(v)\n",
    "v.popitem('sage')\n",
    "print(v)"
   ]
  },
  {
   "cell_type": "markdown",
   "id": "ad58f4eb",
   "metadata": {},
   "source": [
    "## String:\n",
    "    - Enclosed with ' or \""
   ]
  },
  {
   "cell_type": "code",
   "execution_count": 125,
   "id": "aa4f6c5b",
   "metadata": {},
   "outputs": [
    {
     "name": "stdout",
     "output_type": "stream",
     "text": [
      "['__add__', '__class__', '__contains__', '__delattr__', '__dir__', '__doc__', '__eq__', '__format__', '__ge__', '__getattribute__', '__getitem__', '__getnewargs__', '__gt__', '__hash__', '__init__', '__init_subclass__', '__iter__', '__le__', '__len__', '__lt__', '__mod__', '__mul__', '__ne__', '__new__', '__reduce__', '__reduce_ex__', '__repr__', '__rmod__', '__rmul__', '__setattr__', '__sizeof__', '__str__', '__subclasshook__', 'capitalize', 'casefold', 'center', 'count', 'encode', 'endswith', 'expandtabs', 'find', 'format', 'format_map', 'index', 'isalnum', 'isalpha', 'isascii', 'isdecimal', 'isdigit', 'isidentifier', 'islower', 'isnumeric', 'isprintable', 'isspace', 'istitle', 'isupper', 'join', 'ljust', 'lower', 'lstrip', 'maketrans', 'partition', 'removeprefix', 'removesuffix', 'replace', 'rfind', 'rindex', 'rjust', 'rpartition', 'rsplit', 'rstrip', 'split', 'splitlines', 'startswith', 'strip', 'swapcase', 'title', 'translate', 'upper', 'zfill']\n"
     ]
    }
   ],
   "source": [
    "print(dir(str))"
   ]
  },
  {
   "cell_type": "code",
   "execution_count": 126,
   "id": "a6da6c57",
   "metadata": {},
   "outputs": [
    {
     "name": "stdout",
     "output_type": "stream",
     "text": [
      "Ramu is Good AT TeacHing\n"
     ]
    }
   ],
   "source": [
    "g = 'Ramu is Good AT TeacHing'\n",
    "print(g)"
   ]
  },
  {
   "cell_type": "code",
   "execution_count": 127,
   "id": "53c43140",
   "metadata": {},
   "outputs": [
    {
     "name": "stdout",
     "output_type": "stream",
     "text": [
      "Ramu is Good AT TeacHing\n",
      "Ramu Is Good At Teaching\n",
      "Ramu is good at teaching\n",
      "ramu is good at teaching\n",
      "rAMU IS gOOD at tEAChING\n",
      "RAMU IS GOOD AT TEACHING\n",
      "ramu is good at teaching\n"
     ]
    }
   ],
   "source": [
    "print(g)\n",
    "print(g.title())\n",
    "print(g.capitalize())\n",
    "print(g.casefold())\n",
    "print(g.swapcase())\n",
    "print(g.upper())\n",
    "print(g.lower())"
   ]
  },
  {
   "cell_type": "code",
   "execution_count": 129,
   "id": "0030a134",
   "metadata": {},
   "outputs": [
    {
     "name": "stdout",
     "output_type": "stream",
     "text": [
      "This is Sample\n",
      "Demo Page For HTML\n",
      "This is Sample\n",
      "Demo Page For HTML\n"
     ]
    }
   ],
   "source": [
    "b = \"    This is Sample\"\n",
    "c = \"Demo Page For HTML   \"\n",
    "print(b.strip())\n",
    "print(c.strip())\n",
    "print(b.lstrip())\n",
    "print(c.rstrip())"
   ]
  },
  {
   "cell_type": "code",
   "execution_count": 133,
   "id": "0fbb6a38",
   "metadata": {},
   "outputs": [
    {
     "name": "stdout",
     "output_type": "stream",
     "text": [
      "Sample Example on Python\n",
      "['Sample', 'Example', 'on', 'Python']\n",
      "['Sampl', ' Exampl', ' on Python']\n",
      "['Sampl', ' Exampl', ' on Python']\n"
     ]
    }
   ],
   "source": [
    "j = \"Sample Example on Python\"\n",
    "print(j)\n",
    "print(j.split())\n",
    "print(j.split('e'))\n",
    "print(j.rsplit('e'))"
   ]
  },
  {
   "cell_type": "code",
   "execution_count": 134,
   "id": "242a1000",
   "metadata": {},
   "outputs": [
    {
     "name": "stdout",
     "output_type": "stream",
     "text": [
      "Sample Example on Python\n",
      "7\n",
      "7\n"
     ]
    }
   ],
   "source": [
    "print(j)\n",
    "print(j.index('E'))\n",
    "print(j.find('E'))"
   ]
  },
  {
   "cell_type": "code",
   "execution_count": 135,
   "id": "573c9f5a",
   "metadata": {},
   "outputs": [
    {
     "ename": "ValueError",
     "evalue": "substring not found",
     "output_type": "error",
     "traceback": [
      "\u001b[1;31m-------------------------------------------------------------------\u001b[0m",
      "\u001b[1;31mValueError\u001b[0m                        Traceback (most recent call last)",
      "Cell \u001b[1;32mIn[135], line 1\u001b[0m\n\u001b[1;32m----> 1\u001b[0m \u001b[38;5;28mprint\u001b[39m(\u001b[43mj\u001b[49m\u001b[38;5;241;43m.\u001b[39;49m\u001b[43mindex\u001b[49m\u001b[43m(\u001b[49m\u001b[38;5;124;43m'\u001b[39;49m\u001b[38;5;124;43mz\u001b[39;49m\u001b[38;5;124;43m'\u001b[39;49m\u001b[43m)\u001b[49m)\n",
      "\u001b[1;31mValueError\u001b[0m: substring not found"
     ]
    }
   ],
   "source": [
    "print(j.index('z'))"
   ]
  },
  {
   "cell_type": "code",
   "execution_count": 136,
   "id": "1c799a2c",
   "metadata": {},
   "outputs": [
    {
     "name": "stdout",
     "output_type": "stream",
     "text": [
      "-1\n"
     ]
    }
   ],
   "source": [
    "print(j.find('z'))"
   ]
  },
  {
   "cell_type": "code",
   "execution_count": 137,
   "id": "f2097703",
   "metadata": {},
   "outputs": [
    {
     "name": "stdout",
     "output_type": "stream",
     "text": [
      "22\n",
      "15\n"
     ]
    }
   ],
   "source": [
    "print(j.rfind('o'))\n",
    "print(j.find('o'))"
   ]
  },
  {
   "cell_type": "code",
   "execution_count": 138,
   "id": "ee1dfb83",
   "metadata": {},
   "outputs": [
    {
     "name": "stdout",
     "output_type": "stream",
     "text": [
      "Sample Example\n",
      "000000000000000000000000000000000000Sample Example\n"
     ]
    }
   ],
   "source": [
    "b = \"Sample Example\"\n",
    "print(b)\n",
    "print(b.zfill(50))"
   ]
  },
  {
   "cell_type": "code",
   "execution_count": 141,
   "id": "684f7450",
   "metadata": {},
   "outputs": [
    {
     "name": "stdout",
     "output_type": "stream",
     "text": [
      "Sample Example\n",
      "                       Sample Example                       \n",
      "Sample Example                     \n",
      "                                    Sample Example\n"
     ]
    }
   ],
   "source": [
    "print(b)\n",
    "print(b.center(60))\n",
    "print(b.ljust(35))\n",
    "print(b.rjust(50))"
   ]
  },
  {
   "cell_type": "code",
   "execution_count": 143,
   "id": "b1c2ceb9",
   "metadata": {},
   "outputs": [
    {
     "name": "stdout",
     "output_type": "stream",
     "text": [
      "Sample Example\n",
      "S==a==m==p==l==e== ==E==x==a==m==p==l==e\n",
      "Sample Example\n"
     ]
    }
   ],
   "source": [
    "print(b)\n",
    "print(\"==\".join(b))\n",
    "print(b)"
   ]
  },
  {
   "cell_type": "code",
   "execution_count": 150,
   "id": "9def578d",
   "metadata": {},
   "outputs": [
    {
     "name": "stdout",
     "output_type": "stream",
     "text": [
      "Sample Example\n",
      "SamplZ ExamplZ\n",
      "Sample Example\n"
     ]
    }
   ],
   "source": [
    "print(b)\n",
    "print(b.replace('e','Z'))\n",
    "print(b)"
   ]
  },
  {
   "cell_type": "markdown",
   "id": "1a688432",
   "metadata": {},
   "source": [
    "## Lambda:\n",
    "    - without using def and function name"
   ]
  },
  {
   "cell_type": "code",
   "execution_count": 151,
   "id": "f2e43da6",
   "metadata": {},
   "outputs": [
    {
     "data": {
      "text/plain": [
       "11"
      ]
     },
     "execution_count": 151,
     "metadata": {},
     "output_type": "execute_result"
    }
   ],
   "source": [
    "c = lambda a,b:a+b\n",
    "c(5,6)"
   ]
  },
  {
   "cell_type": "code",
   "execution_count": 155,
   "id": "fe3d24b2",
   "metadata": {},
   "outputs": [
    {
     "name": "stdout",
     "output_type": "stream",
     "text": [
      "Enter a number: 4\n",
      "4 is Even\n"
     ]
    }
   ],
   "source": [
    "n = int(input(\"Enter a number: \"))\n",
    "s = lambda : f\"{n} is Even\" if n%2==0 else f\"{n} is Odd\"\n",
    "print(s())"
   ]
  },
  {
   "cell_type": "markdown",
   "id": "57c52e2b",
   "metadata": {},
   "source": [
    "## Comprehensions:\n",
    "    - To reduce the number of lines of code\n",
    "    - To create it in a data structure"
   ]
  },
  {
   "cell_type": "code",
   "execution_count": 157,
   "id": "5992167e",
   "metadata": {},
   "outputs": [
    {
     "name": "stdout",
     "output_type": "stream",
     "text": [
      "2 5 89 3\n",
      "[2]\n"
     ]
    }
   ],
   "source": [
    "k = input().split()\n",
    "z = [int(i) for i in k if int(i)%2==0]\n",
    "print(z)"
   ]
  },
  {
   "cell_type": "code",
   "execution_count": 158,
   "id": "5cb1a009",
   "metadata": {},
   "outputs": [
    {
     "name": "stdout",
     "output_type": "stream",
     "text": [
      "22 5 6 8\n",
      "[22, 6, 8]\n"
     ]
    }
   ],
   "source": [
    "z = [int(i) for i in input().split() if int(i)%2==0]\n",
    "print(z)"
   ]
  },
  {
   "cell_type": "code",
   "execution_count": 163,
   "id": "d6663106",
   "metadata": {},
   "outputs": [
    {
     "name": "stdout",
     "output_type": "stream",
     "text": [
      "4 8 5 3\n",
      "[1, 1, 0, 0]\n"
     ]
    }
   ],
   "source": [
    "z = [1 if int(i)%2==0 else 0 for i in input().split()]\n",
    "print(z)"
   ]
  },
  {
   "cell_type": "code",
   "execution_count": 164,
   "id": "d4a9dc32",
   "metadata": {},
   "outputs": [
    {
     "name": "stdout",
     "output_type": "stream",
     "text": [
      "2 5 9 2 5 20\n",
      "{'5', '20', '2', '9'}\n"
     ]
    }
   ],
   "source": [
    "t = {i for i in input().split()}\n",
    "print(t)"
   ]
  },
  {
   "cell_type": "code",
   "execution_count": 166,
   "id": "9db76f09",
   "metadata": {},
   "outputs": [
    {
     "name": "stdout",
     "output_type": "stream",
     "text": [
      "1 5 9 1\n",
      "{'1': 2, '5': 1, '9': 1}\n"
     ]
    }
   ],
   "source": [
    "v = input().split()\n",
    "k = {i:v.count(i) for i in v}\n",
    "print(k)"
   ]
  },
  {
   "cell_type": "markdown",
   "id": "8f1ba7b0",
   "metadata": {},
   "source": [
    "## Functional Programming:\n",
    "    - map\n",
    "    - filter\n",
    "    - reduce"
   ]
  },
  {
   "cell_type": "markdown",
   "id": "1b55a790",
   "metadata": {},
   "source": [
    "## Map:\n",
    "    - Syntax:\n",
    "        map(functionname,iterator)\n",
    "                or\n",
    "        map(datatype,iterator)"
   ]
  },
  {
   "cell_type": "code",
   "execution_count": 167,
   "id": "35aad356",
   "metadata": {},
   "outputs": [
    {
     "name": "stdout",
     "output_type": "stream",
     "text": [
      "4 5 8 7 9\n",
      "['4', '5', '8', '7', '9']\n"
     ]
    }
   ],
   "source": [
    "c = [i for i in input().split()]\n",
    "print(c)"
   ]
  },
  {
   "cell_type": "code",
   "execution_count": 174,
   "id": "3452d7ec",
   "metadata": {},
   "outputs": [
    {
     "name": "stdout",
     "output_type": "stream",
     "text": [
      "4 5 8\n",
      "[4, 5, 8]\n"
     ]
    }
   ],
   "source": [
    "w = list(map(int,[i for i in input().split()]))\n",
    "print(w)"
   ]
  },
  {
   "cell_type": "code",
   "execution_count": 176,
   "id": "fc32211e",
   "metadata": {},
   "outputs": [
    {
     "name": "stdout",
     "output_type": "stream",
     "text": [
      "4 5 89\n",
      "[False, False, True]\n"
     ]
    }
   ],
   "source": [
    "w = list(map(lambda c:c>10,[int(i) for i in input().split()]))\n",
    "print(w)"
   ]
  },
  {
   "cell_type": "markdown",
   "id": "e291a2ce",
   "metadata": {},
   "source": [
    "## Filter:\n",
    "    - Syntax:\n",
    "        filter(function,iterator)"
   ]
  },
  {
   "cell_type": "code",
   "execution_count": 184,
   "id": "46aabb81",
   "metadata": {},
   "outputs": [
    {
     "name": "stdout",
     "output_type": "stream",
     "text": [
      "28 16 89 10 14\n",
      "[16, 14]\n"
     ]
    }
   ],
   "source": [
    "j = list(filter(lambda x:x<20,[int(i) for i in input().split()]))\n",
    "n = list(filter(lambda s:s>10,j))\n",
    "print(n)"
   ]
  },
  {
   "cell_type": "code",
   "execution_count": 185,
   "id": "88640c98",
   "metadata": {},
   "outputs": [],
   "source": [
    "import functools"
   ]
  },
  {
   "cell_type": "code",
   "execution_count": 189,
   "id": "6ac71b44",
   "metadata": {},
   "outputs": [
    {
     "name": "stdout",
     "output_type": "stream",
     "text": [
      "4 5 8\n",
      "[17]\n"
     ]
    }
   ],
   "source": [
    "k = list(map(int,input().split()))\n",
    "g = [functools.reduce(lambda x,y:x+y,k)]\n",
    "print(g)"
   ]
  },
  {
   "cell_type": "markdown",
   "id": "9379b530",
   "metadata": {},
   "source": [
    "## Packages and Modules"
   ]
  },
  {
   "cell_type": "code",
   "execution_count": 1,
   "id": "4f0e60cc",
   "metadata": {},
   "outputs": [],
   "source": [
    "from Data import demo"
   ]
  },
  {
   "cell_type": "code",
   "execution_count": 2,
   "id": "326e2fac",
   "metadata": {},
   "outputs": [
    {
     "name": "stdout",
     "output_type": "stream",
     "text": [
      "45\n"
     ]
    }
   ],
   "source": [
    "print(demo.w)"
   ]
  },
  {
   "cell_type": "code",
   "execution_count": null,
   "id": "43bc2dea",
   "metadata": {},
   "outputs": [],
   "source": [
    " "
   ]
  }
 ],
 "metadata": {
  "kernelspec": {
   "display_name": "Python 3 (ipykernel)",
   "language": "python",
   "name": "python3"
  },
  "language_info": {
   "codemirror_mode": {
    "name": "ipython",
    "version": 3
   },
   "file_extension": ".py",
   "mimetype": "text/x-python",
   "name": "python",
   "nbconvert_exporter": "python",
   "pygments_lexer": "ipython3",
   "version": "3.9.13"
  }
 },
 "nbformat": 4,
 "nbformat_minor": 5
}
